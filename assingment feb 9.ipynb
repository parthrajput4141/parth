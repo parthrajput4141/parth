{
 "cells": [
  {
   "cell_type": "code",
   "execution_count": 9,
   "id": "b7a14013-d814-4881-b97e-67bd67e62508",
   "metadata": {},
   "outputs": [],
   "source": [
    "class car_detail:\n",
    "    def __init__(self,name_of_vehicle,vehicle_max_speed,average_of_vehicle):\n",
    "        self.name_of_vehicle=name_of_vehicle\n",
    "        self.vehicle_max_speed=vehicle_max_speed\n",
    "        self.average_of_vehicle=average_of_vehicle\n",
    "        \n",
    "    def vehicle_speed(self,vehicle_max_speed):\n",
    "        self.vehicle_max_speed=0 if vehicle_max_speed<0 else vehicle_max_speedspeed\n",
    "        "
   ]
  },
  {
   "cell_type": "code",
   "execution_count": 15,
   "id": "c8fe4440-5d3d-409c-955b-52d086293c3b",
   "metadata": {},
   "outputs": [],
   "source": [
    "c=car_detail(\"maruti\",80,45)"
   ]
  },
  {
   "cell_type": "code",
   "execution_count": 17,
   "id": "3d1609a9-5896-45c4-bf65-7b80e7e2d744",
   "metadata": {},
   "outputs": [
    {
     "data": {
      "text/plain": [
       "45"
      ]
     },
     "execution_count": 17,
     "metadata": {},
     "output_type": "execute_result"
    }
   ],
   "source": [
    "c.average_of_vehicle"
   ]
  },
  {
   "cell_type": "code",
   "execution_count": 18,
   "id": "7f0514b4-0615-478f-839d-264f61e0ad3a",
   "metadata": {},
   "outputs": [
    {
     "data": {
      "text/plain": [
       "'maruti'"
      ]
     },
     "execution_count": 18,
     "metadata": {},
     "output_type": "execute_result"
    }
   ],
   "source": [
    "c.name_of_vehicle\n"
   ]
  },
  {
   "cell_type": "code",
   "execution_count": 19,
   "id": "b3e6577b-bce9-472c-a55d-7297f670fda4",
   "metadata": {},
   "outputs": [],
   "source": [
    "class car(car_detail):\n",
    "    def seating_capacity(self,capacity):\n",
    "        return capacity"
   ]
  },
  {
   "cell_type": "code",
   "execution_count": 21,
   "id": "45d4a275-7712-4440-bab2-e27457da3c29",
   "metadata": {},
   "outputs": [],
   "source": [
    "m=car(\"maruti\",80,45)"
   ]
  },
  {
   "cell_type": "code",
   "execution_count": 22,
   "id": "7443c507-36ed-4f87-989a-7b4983b8662c",
   "metadata": {},
   "outputs": [
    {
     "data": {
      "text/plain": [
       "4"
      ]
     },
     "execution_count": 22,
     "metadata": {},
     "output_type": "execute_result"
    }
   ],
   "source": [
    "m.seating_capacity(4)"
   ]
  },
  {
   "cell_type": "code",
   "execution_count": 32,
   "id": "d2d7ab79-6ef1-476a-ad22-2334e4de39ce",
   "metadata": {},
   "outputs": [
    {
     "data": {
      "text/plain": [
       "'maruti'"
      ]
     },
     "execution_count": 32,
     "metadata": {},
     "output_type": "execute_result"
    }
   ],
   "source": [
    "m.name_of_vehicle\n"
   ]
  },
  {
   "cell_type": "code",
   "execution_count": 33,
   "id": "82e02d83-249e-478a-b53b-e43a68f8ae6a",
   "metadata": {},
   "outputs": [
    {
     "data": {
      "text/plain": [
       "'multiple inheritance woh hota h jo bhaut sari class ko ek hi barr mr ek hi class me le le or phir woh result sari  class k de '"
      ]
     },
     "execution_count": 33,
     "metadata": {},
     "output_type": "execute_result"
    }
   ],
   "source": [
    "\"multiple inheritance woh hota h jo bhaut sari class ko ek hi barr mr ek hi class me le le or phir woh result sari  class k de \""
   ]
  },
  {
   "cell_type": "code",
   "execution_count": 35,
   "id": "803a37d0-aa96-47c3-9745-98c215ab735f",
   "metadata": {},
   "outputs": [],
   "source": [
    "class class1:\n",
    "    def data_sciece(self):\n",
    "        print(\"today is my oops classs\")"
   ]
  },
  {
   "cell_type": "code",
   "execution_count": 36,
   "id": "e3c966fb-b631-4966-8c43-b55531ea6fd2",
   "metadata": {},
   "outputs": [],
   "source": [
    "class class2:\n",
    "    def web_dev(self):\n",
    "        print(\"today is my introduction class\")"
   ]
  },
  {
   "cell_type": "code",
   "execution_count": 38,
   "id": "a66362ed-9cd3-409f-906e-2873abd36415",
   "metadata": {},
   "outputs": [],
   "source": [
    "class class3(class1,class2):\n",
    "    pass"
   ]
  },
  {
   "cell_type": "code",
   "execution_count": 39,
   "id": "6266ff73-9950-44d2-9190-6b7af652d002",
   "metadata": {},
   "outputs": [],
   "source": [
    "class3=class3()"
   ]
  },
  {
   "cell_type": "code",
   "execution_count": 40,
   "id": "feefda22-acd1-4ba3-8bbb-8096eedb07ab",
   "metadata": {},
   "outputs": [
    {
     "name": "stdout",
     "output_type": "stream",
     "text": [
      "today is my oops classs\n"
     ]
    }
   ],
   "source": [
    "class3.data_sciece()"
   ]
  },
  {
   "cell_type": "code",
   "execution_count": 41,
   "id": "c53f1238-d029-4875-ad5f-10ad45b95c45",
   "metadata": {},
   "outputs": [
    {
     "name": "stdout",
     "output_type": "stream",
     "text": [
      "today is my introduction class\n"
     ]
    }
   ],
   "source": [
    "class3.web_dev()"
   ]
  },
  {
   "cell_type": "code",
   "execution_count": null,
   "id": "2634a66d-bcaa-4eac-88e5-2674d5453dee",
   "metadata": {},
   "outputs": [],
   "source": []
  }
 ],
 "metadata": {
  "kernelspec": {
   "display_name": "Python 3 (ipykernel)",
   "language": "python",
   "name": "python3"
  },
  "language_info": {
   "codemirror_mode": {
    "name": "ipython",
    "version": 3
   },
   "file_extension": ".py",
   "mimetype": "text/x-python",
   "name": "python",
   "nbconvert_exporter": "python",
   "pygments_lexer": "ipython3",
   "version": "3.10.8"
  }
 },
 "nbformat": 4,
 "nbformat_minor": 5
}
