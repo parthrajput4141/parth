{
 "cells": [
  {
   "cell_type": "code",
   "execution_count": 1,
   "id": "8c0a7281-1583-460d-9dae-73c0399b15d7",
   "metadata": {},
   "outputs": [
    {
     "data": {
      "text/plain": [
       "'their are three type of cliustring algorithium : K means clustring , Hicranichal clustring , DB scan clustring '"
      ]
     },
     "execution_count": 1,
     "metadata": {},
     "output_type": "execute_result"
    }
   ],
   "source": [
    "\"their are three type of cliustring algorithium : K means clustring , Hicranichal clustring , DB scan clustring \""
   ]
  },
  {
   "cell_type": "code",
   "execution_count": 2,
   "id": "a4a08389-9dc2-40ec-a4b2-8d7c246622f7",
   "metadata": {},
   "outputs": [
    {
     "data": {
      "text/plain": [
       "'k means clustring : it makes group with the help of dataset and the data points '"
      ]
     },
     "execution_count": 2,
     "metadata": {},
     "output_type": "execute_result"
    }
   ],
   "source": [
    "\"k means clustring : it makes group with the help of dataset and the data points \""
   ]
  },
  {
   "cell_type": "code",
   "execution_count": 3,
   "id": "bab38b3d-fb5f-4faa-b87d-dd7a1e312377",
   "metadata": {},
   "outputs": [
    {
     "data": {
      "text/plain": [
       "'steps for implementation for k means clustring : step 1 is Initilize some k - centroid , steps 2 is points that are nearest to nthe centroid ,steps 3 is move the centroid by the calculate  with the help of means and than repeat the step 2 until the centeroid is in between the group '"
      ]
     },
     "execution_count": 3,
     "metadata": {},
     "output_type": "execute_result"
    }
   ],
   "source": [
    "\"steps for implementation for k means clustring : step 1 is Initilize some k - centroid , steps 2 is points that are nearest to nthe centroid ,steps 3 is move the centroid by the calculate  with the help of means and than repeat the step 2 until the centeroid is in between the group \""
   ]
  },
  {
   "cell_type": "code",
   "execution_count": null,
   "id": "ba756f67-4109-49e4-afd2-881baf18c894",
   "metadata": {},
   "outputs": [],
   "source": [
    "\"advantage of k means clustering is  it is very use full for the huge data ,  its simplicity and efficiency\""
   ]
  },
  {
   "cell_type": "code",
   "execution_count": 4,
   "id": "e217caa9-37df-4c9b-bf99-5c1417de301c",
   "metadata": {},
   "outputs": [
    {
     "data": {
      "text/plain": [
       "'limitation of k menas clustring is it is sensitive to the intial choice of cluster centers'"
      ]
     },
     "execution_count": 4,
     "metadata": {},
     "output_type": "execute_result"
    }
   ],
   "source": [
    "\"limitation of k menas clustring is it is sensitive to the intial choice of cluster centers\""
   ]
  },
  {
   "cell_type": "code",
   "execution_count": 5,
   "id": "afe0d737-33d6-4937-b55d-ce12bd783a8d",
   "metadata": {},
   "outputs": [
    {
     "data": {
      "text/plain": [
       "'we select the optional value (k value ) with the help of wcss- within cluster sum of square and by the elbow method (in this method we choice the k value when the graph is constant )'"
      ]
     },
     "execution_count": 5,
     "metadata": {},
     "output_type": "execute_result"
    }
   ],
   "source": [
    "\"we select the optional value (k value ) with the help of wcss- within cluster sum of square and by the elbow method (in this method we choice the k value when the graph is constant )\""
   ]
  },
  {
   "cell_type": "code",
   "execution_count": 6,
   "id": "349a1d72-f1a0-43b8-91ce-18515efacafb",
   "metadata": {},
   "outputs": [
    {
     "data": {
      "text/plain": [
       "'kmeans algorithm is very popular and used in a variety of applications such as market segmentation, document clustering, image segmentation and image compression'"
      ]
     },
     "execution_count": 6,
     "metadata": {},
     "output_type": "execute_result"
    }
   ],
   "source": [
    "\"kmeans algorithm is very popular and used in a variety of applications such as market segmentation, document clustering, image segmentation and image compression\""
   ]
  },
  {
   "cell_type": "code",
   "execution_count": 7,
   "id": "8e151e03-c175-4046-b187-05dfb5c87a07",
   "metadata": {},
   "outputs": [
    {
     "data": {
      "text/plain": [
       "'some common challenges are to implemention of k means are kabhi kabhi centroid pass pass me secelet ho jata h the to problem karte h isko dur karne k liye hm random intilization trap ka use kartye h  '"
      ]
     },
     "execution_count": 7,
     "metadata": {},
     "output_type": "execute_result"
    }
   ],
   "source": [
    "\"some common challenges are to implemention of k means are kabhi kabhi centroid pass pass me secelet ho jata h the to problem karte h isko dur karne k liye hm random intilization trap ka use kartye h  \""
   ]
  },
  {
   "cell_type": "code",
   "execution_count": null,
   "id": "40b3a42a-2a84-4a79-8e8b-72bb5a1f87d9",
   "metadata": {},
   "outputs": [],
   "source": []
  }
 ],
 "metadata": {
  "kernelspec": {
   "display_name": "Python 3 (ipykernel)",
   "language": "python",
   "name": "python3"
  },
  "language_info": {
   "codemirror_mode": {
    "name": "ipython",
    "version": 3
   },
   "file_extension": ".py",
   "mimetype": "text/x-python",
   "name": "python",
   "nbconvert_exporter": "python",
   "pygments_lexer": "ipython3",
   "version": "3.10.8"
  }
 },
 "nbformat": 4,
 "nbformat_minor": 5
}
