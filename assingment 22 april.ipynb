{
 "cells": [
  {
   "cell_type": "code",
   "execution_count": 1,
   "id": "6ec30d04-1b8e-4fd4-9357-e46e3fb4a84c",
   "metadata": {},
   "outputs": [
    {
     "data": {
      "text/plain": [
       "'Distance metrics are use to measure the distance betwwn the new data point and old data point and than we check which is the top 5 nearset neighors point towards the new data point '"
      ]
     },
     "execution_count": 1,
     "metadata": {},
     "output_type": "execute_result"
    }
   ],
   "source": [
    "\"Distance metrics are use to measure the distance betwwn the new data point and old data point and than we check which is the top 5 nearset neighors point towards the new data point \""
   ]
  },
  {
   "cell_type": "code",
   "execution_count": 2,
   "id": "dae3b25b-78bd-4226-ad6a-c5905ec55a2d",
   "metadata": {},
   "outputs": [
    {
     "data": {
      "text/plain": [
       "'distance metrics which is used in the KNN are two types : 1) eilidian distance , 2) Manhaththen Distance'"
      ]
     },
     "execution_count": 2,
     "metadata": {},
     "output_type": "execute_result"
    }
   ],
   "source": [
    "\"distance metrics which is used in the KNN are two types : 1) eilidian distance , 2) Manhaththen Distance\""
   ]
  },
  {
   "cell_type": "code",
   "execution_count": 3,
   "id": "3c50eb94-0881-483d-8057-93fea2036684",
   "metadata": {},
   "outputs": [
    {
     "data": {
      "text/plain": [
       "'Manhattan Distance – This distance is also known as taxicab distance or city block distance, that is because the way this distance is calculated. The distance between two points is the sum of the absolute differences of their Cartesian coordinates.Manhattan distance by value p=1'"
      ]
     },
     "execution_count": 3,
     "metadata": {},
     "output_type": "execute_result"
    }
   ],
   "source": [
    "\"Manhattan Distance – This distance is also known as taxicab distance or city block distance, that is because the way this distance is calculated. The distance between two points is the sum of the absolute differences of their Cartesian coordinates.Manhattan distance by value p=1\""
   ]
  },
  {
   "cell_type": "code",
   "execution_count": 4,
   "id": "1b1b2773-13b0-4908-a49d-bd3b959c852b",
   "metadata": {},
   "outputs": [
    {
     "data": {
      "text/plain": [
       "'formula of manhattan distitance is d=submission of |xi-yi|'"
      ]
     },
     "execution_count": 4,
     "metadata": {},
     "output_type": "execute_result"
    }
   ],
   "source": [
    "\"formula of manhattan distitance is d=submission of |xi-yi|\""
   ]
  },
  {
   "cell_type": "code",
   "execution_count": 5,
   "id": "b634d654-3a22-4598-b6bf-4a29bdfd7ce2",
   "metadata": {},
   "outputs": [
    {
     "data": {
      "text/plain": [
       "'Euclidean Distance – This distance is the most widely used one as it is the default metric that SKlearn library of Python uses for K-Nearest Neighbour. It is a measure of the true straight line distance between two points in Euclidean space. Eculidian distance by value of p=2'"
      ]
     },
     "execution_count": 5,
     "metadata": {},
     "output_type": "execute_result"
    }
   ],
   "source": [
    "\"Euclidean Distance – This distance is the most widely used one as it is the default metric that SKlearn library of Python uses for K-Nearest Neighbour. It is a measure of the true straight line distance between two points in Euclidean space. Eculidian distance by value of p=2\""
   ]
  },
  {
   "cell_type": "code",
   "execution_count": 6,
   "id": "c2999477-a1b2-416c-8261-78385b50c8a9",
   "metadata": {},
   "outputs": [
    {
     "data": {
      "text/plain": [
       "'formula of eculidian distance is d= underroot of submission of (xi-yi)^2'"
      ]
     },
     "execution_count": 6,
     "metadata": {},
     "output_type": "execute_result"
    }
   ],
   "source": [
    "\"formula of eculidian distance is d= underroot of submission of (xi-yi)^2\""
   ]
  },
  {
   "cell_type": "code",
   "execution_count": 7,
   "id": "8098a8fe-947f-4745-9178-7f561c255632",
   "metadata": {},
   "outputs": [
    {
     "data": {
      "text/plain": [
       "' we choose the optional value of k with the help of hyperparemetr tunning we use gridsearchcv process and the we choose the optional value of and the best value of k for our model traning '"
      ]
     },
     "execution_count": 7,
     "metadata": {},
     "output_type": "execute_result"
    }
   ],
   "source": [
    "\" we choose the optional value of k with the help of hyperparemetr tunning we use gridsearchcv process and the we choose the optional value of and the best value of k for our model traning \""
   ]
  },
  {
   "cell_type": "code",
   "execution_count": 8,
   "id": "cb8b2859-7251-40f7-8b10-192e44008bdc",
   "metadata": {},
   "outputs": [
    {
     "data": {
      "text/plain": [
       "'some common hyperparameters in KNN classifiers and regressors are 1) value of n_neighbors (k) 2) algorithium '"
      ]
     },
     "execution_count": 8,
     "metadata": {},
     "output_type": "execute_result"
    }
   ],
   "source": [
    "\"some common hyperparameters in KNN classifiers and regressors are 1) value of n_neighbors (k) 2) algorithium \""
   ]
  },
  {
   "cell_type": "code",
   "execution_count": null,
   "id": "d61a664e-2102-4803-ba99-298cf1aa2a2a",
   "metadata": {},
   "outputs": [],
   "source": [
    "\"the majour disadvantage of knn algorith\""
   ]
  }
 ],
 "metadata": {
  "kernelspec": {
   "display_name": "Python 3 (ipykernel)",
   "language": "python",
   "name": "python3"
  },
  "language_info": {
   "codemirror_mode": {
    "name": "ipython",
    "version": 3
   },
   "file_extension": ".py",
   "mimetype": "text/x-python",
   "name": "python",
   "nbconvert_exporter": "python",
   "pygments_lexer": "ipython3",
   "version": "3.10.8"
  }
 },
 "nbformat": 4,
 "nbformat_minor": 5
}
