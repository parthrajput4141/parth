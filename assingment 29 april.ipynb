{
 "cells": [
  {
   "cell_type": "code",
   "execution_count": 1,
   "id": "7e517d75-cc02-46db-b818-ee40046171e3",
   "metadata": {},
   "outputs": [
    {
     "data": {
      "text/plain": [
       "'clustring : is the task of dividing the unlabeled data or dat point into differnt cluster such that similar data point fall in the same cluster than those which differ from the others '"
      ]
     },
     "execution_count": 1,
     "metadata": {},
     "output_type": "execute_result"
    }
   ],
   "source": [
    "\"clustring : is the task of dividing the unlabeled data or dat point into differnt cluster such that similar data point fall in the same cluster than those which differ from the others \""
   ]
  },
  {
   "cell_type": "code",
   "execution_count": 2,
   "id": "d14384a6-22e2-40d1-b701-5bf224b9c596",
   "metadata": {},
   "outputs": [
    {
     "data": {
      "text/plain": [
       "'their are three type of clustring are 1) k means clustring 2) Hirerchical clustring 3) DBSCAN clustring '"
      ]
     },
     "execution_count": 2,
     "metadata": {},
     "output_type": "execute_result"
    }
   ],
   "source": [
    "\"their are three type of clustring are 1) k means clustring 2) Hirerchical clustring 3) DBSCAN clustring \""
   ]
  },
  {
   "cell_type": "code",
   "execution_count": 4,
   "id": "abf0ee59-c1bf-492d-873e-503569e65596",
   "metadata": {},
   "outputs": [
    {
     "data": {
      "text/plain": [
       "' clustring is  used in used in a variety of applications such as market segmentation, document clustering, image segmentation and image compression'"
      ]
     },
     "execution_count": 4,
     "metadata": {},
     "output_type": "execute_result"
    }
   ],
   "source": [
    "\" clustring is  used in used in a variety of applications such as market segmentation, document clustering, image segmentation and image compression\""
   ]
  },
  {
   "cell_type": "code",
   "execution_count": 5,
   "id": "85b818dc-ee72-4ea5-8e03-41ceac1eba95",
   "metadata": {},
   "outputs": [
    {
     "data": {
      "text/plain": [
       "'DBSCAN = Density based spatial clustring of application with noise , cluster are dense region in the data space , sperate by regions of the lower densisty of points '"
      ]
     },
     "execution_count": 5,
     "metadata": {},
     "output_type": "execute_result"
    }
   ],
   "source": [
    "\"DBSCAN = Density based spatial clustring of application with noise , cluster are dense region in the data space , sperate by regions of the lower densisty of points \""
   ]
  },
  {
   "cell_type": "code",
   "execution_count": 6,
   "id": "669d2c3c-6f7d-4878-bd40-8d76f5098d73",
   "metadata": {},
   "outputs": [
    {
     "data": {
      "text/plain": [
       "'dbscan is usefull for non linear data set and it is diifer form other clustring algorithum because it is robust the outlier '"
      ]
     },
     "execution_count": 6,
     "metadata": {},
     "output_type": "execute_result"
    }
   ],
   "source": [
    "\"dbscan is usefull for non linear data set and it is diifer form other clustring algorithum because it is robust the outlier \""
   ]
  },
  {
   "cell_type": "code",
   "execution_count": 7,
   "id": "12ef8404-61a5-4923-87cd-7f4aff8298b8",
   "metadata": {},
   "outputs": [
    {
     "data": {
      "text/plain": [
       "'in the dbscan thier are two main parameter are 1) epsilon 2) min point'"
      ]
     },
     "execution_count": 7,
     "metadata": {},
     "output_type": "execute_result"
    }
   ],
   "source": [
    "\"in the dbscan thier are two main parameter are 1) epsilon 2) min point\""
   ]
  },
  {
   "cell_type": "code",
   "execution_count": 8,
   "id": "2d8c0345-9789-4c86-b579-7204c82ef184",
   "metadata": {},
   "outputs": [
    {
     "data": {
      "text/plain": [
       "'epsilion : It defines the neighborhood around a data point i.e. if the distance between two points is lower or equal to ‘eps’ then they are considered neighbors. If the eps value is chosen too small then a large part of the data will be considered as an outlier. If it is chosen very large then the clusters will merge and the majority of the data points will be in the same clusters. One way to find the eps value is based on the k-distance graph'"
      ]
     },
     "execution_count": 8,
     "metadata": {},
     "output_type": "execute_result"
    }
   ],
   "source": [
    "\"epsilion : It defines the neighborhood around a data point i.e. if the distance between two points is lower or equal to ‘eps’ then they are considered neighbors. If the eps value is chosen too small then a large part of the data will be considered as an outlier. If it is chosen very large then the clusters will merge and the majority of the data points will be in the same clusters. One way to find the eps value is based on the k-distance graph\""
   ]
  },
  {
   "cell_type": "code",
   "execution_count": 9,
   "id": "fa44329c-cb6b-476d-9637-ae12b9bb0045",
   "metadata": {},
   "outputs": [
    {
     "data": {
      "text/plain": [
       "'min_pint :  Minimum number of neighbors (data points) within eps radius. The larger the dataset, the larger value of MinPts must be chosen. As a general rule, the minimum MinPts can be derived from the number of dimensions D in the dataset as, MinPts >= D+1. The minimum value of MinPts must be chosen at least 3.'"
      ]
     },
     "execution_count": 9,
     "metadata": {},
     "output_type": "execute_result"
    }
   ],
   "source": [
    "\"min_pint :  Minimum number of neighbors (data points) within eps radius. The larger the dataset, the larger value of MinPts must be chosen. As a general rule, the minimum MinPts can be derived from the number of dimensions D in the dataset as, MinPts >= D+1. The minimum value of MinPts must be chosen at least 3.\""
   ]
  },
  {
   "cell_type": "code",
   "execution_count": 11,
   "id": "a8895038-270b-4c75-b5f6-35d9060a5923",
   "metadata": {},
   "outputs": [
    {
     "data": {
      "text/plain": [
       "' Data points in low-density regions, which are not assigned to any cluster, are treated as outliers or noise'"
      ]
     },
     "execution_count": 11,
     "metadata": {},
     "output_type": "execute_result"
    }
   ],
   "source": [
    "\" Data points in low-density regions, which are not assigned to any cluster, are treated as outliers or noise\""
   ]
  },
  {
   "cell_type": "code",
   "execution_count": 13,
   "id": "4ebd08ab-783f-493c-9a27-4d069857c0bc",
   "metadata": {},
   "outputs": [
    {
     "data": {
      "text/plain": [
       "'dbscan is differ from k means clustring is : dbscan not need to specify the no. of cluster , it can be of any arbitrary shape, it can work well with the dataets having noise and outliers'"
      ]
     },
     "execution_count": 13,
     "metadata": {},
     "output_type": "execute_result"
    }
   ],
   "source": [
    "\"dbscan is differ from k means clustring is : dbscan not need to specify the no. of cluster , it can be of any arbitrary shape, it can work well with the dataets having noise and outliers\""
   ]
  },
  {
   "cell_type": "code",
   "execution_count": null,
   "id": "b2f22f8f-3c29-490a-96f4-5330a4b3d08e",
   "metadata": {},
   "outputs": [],
   "source": []
  }
 ],
 "metadata": {
  "kernelspec": {
   "display_name": "Python 3 (ipykernel)",
   "language": "python",
   "name": "python3"
  },
  "language_info": {
   "codemirror_mode": {
    "name": "ipython",
    "version": 3
   },
   "file_extension": ".py",
   "mimetype": "text/x-python",
   "name": "python",
   "nbconvert_exporter": "python",
   "pygments_lexer": "ipython3",
   "version": "3.10.8"
  }
 },
 "nbformat": 4,
 "nbformat_minor": 5
}
