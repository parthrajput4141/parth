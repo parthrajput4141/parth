{
 "cells": [
  {
   "cell_type": "code",
   "execution_count": 1,
   "id": "097c135c-1a38-487c-a26a-df054d03846e",
   "metadata": {},
   "outputs": [
    {
     "data": {
      "text/plain": [
       "'data encoding : Data encoding involves converting a sequence of text characters into binary code so computers, which operate using binary numbers, can process, store, or transmit that textual information'"
      ]
     },
     "execution_count": 1,
     "metadata": {},
     "output_type": "execute_result"
    }
   ],
   "source": [
    "\"data encoding : Data encoding involves converting a sequence of text characters into binary code so computers, which operate using binary numbers, can process, store, or transmit that textual information\""
   ]
  },
  {
   "cell_type": "code",
   "execution_count": 2,
   "id": "05c31e1f-d03c-42d0-a62e-95b1b90d5d6e",
   "metadata": {},
   "outputs": [
    {
     "data": {
      "text/plain": [
       "'is it useful in data science for train our model and good output and good performance'"
      ]
     },
     "execution_count": 2,
     "metadata": {},
     "output_type": "execute_result"
    }
   ],
   "source": [
    "\"is it useful in data science for train our model and good output and good performance\""
   ]
  },
  {
   "cell_type": "code",
   "execution_count": 3,
   "id": "2eb4c76e-705c-43d1-a6b7-4d3f2a3b43f1",
   "metadata": {},
   "outputs": [
    {
     "data": {
      "text/plain": [
       "'nominal encoding : it transform categrecial varible into numerical value and in this encoding no odering is requered. '"
      ]
     },
     "execution_count": 3,
     "metadata": {},
     "output_type": "execute_result"
    }
   ],
   "source": [
    "\"nominal encoding : it transform categrecial varible into numerical value and in this encoding no odering is requered. \""
   ]
  },
  {
   "cell_type": "code",
   "execution_count": 4,
   "id": "4a0f699c-cf66-4f30-8619-946e161beaec",
   "metadata": {},
   "outputs": [],
   "source": [
    "# example for nominal encoding "
   ]
  },
  {
   "cell_type": "code",
   "execution_count": 5,
   "id": "5821461f-9403-42aa-9a85-db07b55cde91",
   "metadata": {},
   "outputs": [],
   "source": [
    "import pandas as pd "
   ]
  },
  {
   "cell_type": "code",
   "execution_count": 6,
   "id": "48844960-86e7-47ab-8aa0-5e227146c722",
   "metadata": {},
   "outputs": [],
   "source": [
    "df=pd.DataFrame({'colurs':['red', 'blue', 'green','red', 'blue', 'green']})"
   ]
  },
  {
   "cell_type": "code",
   "execution_count": 7,
   "id": "abb02e90-a49a-4ed7-8298-a323ffa59a21",
   "metadata": {},
   "outputs": [
    {
     "data": {
      "text/html": [
       "<div>\n",
       "<style scoped>\n",
       "    .dataframe tbody tr th:only-of-type {\n",
       "        vertical-align: middle;\n",
       "    }\n",
       "\n",
       "    .dataframe tbody tr th {\n",
       "        vertical-align: top;\n",
       "    }\n",
       "\n",
       "    .dataframe thead th {\n",
       "        text-align: right;\n",
       "    }\n",
       "</style>\n",
       "<table border=\"1\" class=\"dataframe\">\n",
       "  <thead>\n",
       "    <tr style=\"text-align: right;\">\n",
       "      <th></th>\n",
       "      <th>colurs</th>\n",
       "    </tr>\n",
       "  </thead>\n",
       "  <tbody>\n",
       "    <tr>\n",
       "      <th>0</th>\n",
       "      <td>red</td>\n",
       "    </tr>\n",
       "    <tr>\n",
       "      <th>1</th>\n",
       "      <td>blue</td>\n",
       "    </tr>\n",
       "    <tr>\n",
       "      <th>2</th>\n",
       "      <td>green</td>\n",
       "    </tr>\n",
       "    <tr>\n",
       "      <th>3</th>\n",
       "      <td>red</td>\n",
       "    </tr>\n",
       "    <tr>\n",
       "      <th>4</th>\n",
       "      <td>blue</td>\n",
       "    </tr>\n",
       "    <tr>\n",
       "      <th>5</th>\n",
       "      <td>green</td>\n",
       "    </tr>\n",
       "  </tbody>\n",
       "</table>\n",
       "</div>"
      ],
      "text/plain": [
       "  colurs\n",
       "0    red\n",
       "1   blue\n",
       "2  green\n",
       "3    red\n",
       "4   blue\n",
       "5  green"
      ]
     },
     "execution_count": 7,
     "metadata": {},
     "output_type": "execute_result"
    }
   ],
   "source": [
    "df"
   ]
  },
  {
   "cell_type": "code",
   "execution_count": 8,
   "id": "1f42a3c3-a487-49d0-ba36-747b8acb3af4",
   "metadata": {},
   "outputs": [],
   "source": [
    "from sklearn.preprocessing import OneHotEncoder"
   ]
  },
  {
   "cell_type": "code",
   "execution_count": 9,
   "id": "9102a453-ce47-4129-bde9-4452911e667d",
   "metadata": {},
   "outputs": [],
   "source": [
    "encode=OneHotEncoder()"
   ]
  },
  {
   "cell_type": "code",
   "execution_count": 16,
   "id": "6a53d83c-813d-4173-8086-9d70e365d980",
   "metadata": {},
   "outputs": [
    {
     "data": {
      "text/plain": [
       "<6x3 sparse matrix of type '<class 'numpy.float64'>'\n",
       "\twith 6 stored elements in Compressed Sparse Row format>"
      ]
     },
     "execution_count": 16,
     "metadata": {},
     "output_type": "execute_result"
    }
   ],
   "source": [
    "encode.fit_transform(df[['colurs']])"
   ]
  },
  {
   "cell_type": "code",
   "execution_count": 19,
   "id": "cb97f68b-5bec-4dc6-9ad1-9946804f6b02",
   "metadata": {},
   "outputs": [],
   "source": [
    "# array ki value bane k liye \n",
    "encoded=encode.fit_transform(df[['colurs']]).toarray()"
   ]
  },
  {
   "cell_type": "code",
   "execution_count": 20,
   "id": "1d72b1b5-affd-4b92-819d-5f9f1630a7a0",
   "metadata": {},
   "outputs": [],
   "source": [
    "df_nominal= pd.DataFrame(encoded,columns=encode.get_feature_names_out())"
   ]
  },
  {
   "cell_type": "code",
   "execution_count": 24,
   "id": "3773cdae-2342-4b46-a36d-27dfdc2dba0f",
   "metadata": {},
   "outputs": [
    {
     "data": {
      "text/html": [
       "<div>\n",
       "<style scoped>\n",
       "    .dataframe tbody tr th:only-of-type {\n",
       "        vertical-align: middle;\n",
       "    }\n",
       "\n",
       "    .dataframe tbody tr th {\n",
       "        vertical-align: top;\n",
       "    }\n",
       "\n",
       "    .dataframe thead th {\n",
       "        text-align: right;\n",
       "    }\n",
       "</style>\n",
       "<table border=\"1\" class=\"dataframe\">\n",
       "  <thead>\n",
       "    <tr style=\"text-align: right;\">\n",
       "      <th></th>\n",
       "      <th>colurs</th>\n",
       "      <th>colurs_blue</th>\n",
       "      <th>colurs_green</th>\n",
       "      <th>colurs_red</th>\n",
       "    </tr>\n",
       "  </thead>\n",
       "  <tbody>\n",
       "    <tr>\n",
       "      <th>0</th>\n",
       "      <td>red</td>\n",
       "      <td>0.0</td>\n",
       "      <td>0.0</td>\n",
       "      <td>1.0</td>\n",
       "    </tr>\n",
       "    <tr>\n",
       "      <th>1</th>\n",
       "      <td>blue</td>\n",
       "      <td>1.0</td>\n",
       "      <td>0.0</td>\n",
       "      <td>0.0</td>\n",
       "    </tr>\n",
       "    <tr>\n",
       "      <th>2</th>\n",
       "      <td>green</td>\n",
       "      <td>0.0</td>\n",
       "      <td>1.0</td>\n",
       "      <td>0.0</td>\n",
       "    </tr>\n",
       "    <tr>\n",
       "      <th>3</th>\n",
       "      <td>red</td>\n",
       "      <td>0.0</td>\n",
       "      <td>0.0</td>\n",
       "      <td>1.0</td>\n",
       "    </tr>\n",
       "    <tr>\n",
       "      <th>4</th>\n",
       "      <td>blue</td>\n",
       "      <td>1.0</td>\n",
       "      <td>0.0</td>\n",
       "      <td>0.0</td>\n",
       "    </tr>\n",
       "    <tr>\n",
       "      <th>5</th>\n",
       "      <td>green</td>\n",
       "      <td>0.0</td>\n",
       "      <td>1.0</td>\n",
       "      <td>0.0</td>\n",
       "    </tr>\n",
       "  </tbody>\n",
       "</table>\n",
       "</div>"
      ],
      "text/plain": [
       "  colurs  colurs_blue  colurs_green  colurs_red\n",
       "0    red          0.0           0.0         1.0\n",
       "1   blue          1.0           0.0         0.0\n",
       "2  green          0.0           1.0         0.0\n",
       "3    red          0.0           0.0         1.0\n",
       "4   blue          1.0           0.0         0.0\n",
       "5  green          0.0           1.0         0.0"
      ]
     },
     "execution_count": 24,
     "metadata": {},
     "output_type": "execute_result"
    }
   ],
   "source": [
    "pd.concat([df,df_nominal],axis=1)"
   ]
  },
  {
   "cell_type": "code",
   "execution_count": 25,
   "id": "472a68f4-d342-4af4-8e41-56cd6724fe82",
   "metadata": {},
   "outputs": [
    {
     "data": {
      "text/plain": [
       "'i have a dataset containing categorical data with 5 unique values : we use nomial encoding '"
      ]
     },
     "execution_count": 25,
     "metadata": {},
     "output_type": "execute_result"
    }
   ],
   "source": [
    "\"i have a dataset containing categorical data with 5 unique values : we use nomial encoding \""
   ]
  },
  {
   "cell_type": "code",
   "execution_count": null,
   "id": "af876ba0-1ec1-40bd-89d2-e1dd8dce1b38",
   "metadata": {},
   "outputs": [],
   "source": []
  }
 ],
 "metadata": {
  "kernelspec": {
   "display_name": "Python 3 (ipykernel)",
   "language": "python",
   "name": "python3"
  },
  "language_info": {
   "codemirror_mode": {
    "name": "ipython",
    "version": 3
   },
   "file_extension": ".py",
   "mimetype": "text/x-python",
   "name": "python",
   "nbconvert_exporter": "python",
   "pygments_lexer": "ipython3",
   "version": "3.10.8"
  }
 },
 "nbformat": 4,
 "nbformat_minor": 5
}
