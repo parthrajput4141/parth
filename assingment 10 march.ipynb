{
 "cells": [
  {
   "cell_type": "code",
   "execution_count": 1,
   "id": "469f075a-a7bf-4d78-9f0a-b9036119664e",
   "metadata": {},
   "outputs": [
    {
     "data": {
      "text/plain": [
       "'estimate is the n observed nuerical value used to known estimaste of an  unknowm population paramerts'"
      ]
     },
     "execution_count": 1,
     "metadata": {},
     "output_type": "execute_result"
    }
   ],
   "source": [
    "\"estimate is the n observed nuerical value used to known estimaste of an  unknowm population paramerts\""
   ]
  },
  {
   "cell_type": "code",
   "execution_count": 2,
   "id": "0af0b5d9-05f5-43f0-a754-de957c9b2698",
   "metadata": {},
   "outputs": [
    {
     "data": {
      "text/plain": [
       "'two tpes of estimate are 1) point estimate 2) interval estimate '"
      ]
     },
     "execution_count": 2,
     "metadata": {},
     "output_type": "execute_result"
    }
   ],
   "source": [
    "'two tpes of estimate are 1) point estimate 2) interval estimate '"
   ]
  },
  {
   "cell_type": "code",
   "execution_count": 3,
   "id": "e1a5dbd9-5cdf-4869-8880-224d6af05bdb",
   "metadata": {},
   "outputs": [
    {
     "data": {
      "text/plain": [
       "'in point estimate single numerical value used to estimate the unknown population parameters  '"
      ]
     },
     "execution_count": 3,
     "metadata": {},
     "output_type": "execute_result"
    }
   ],
   "source": [
    "'in point estimate single numerical value used to estimate the unknown population parameters  '"
   ]
  },
  {
   "cell_type": "code",
   "execution_count": 4,
   "id": "6dd75932-f502-4cc1-98c7-27547c462623",
   "metadata": {},
   "outputs": [
    {
     "data": {
      "text/plain": [
       "'in interval estimate range of value used to estimate the unkown population parameter '"
      ]
     },
     "execution_count": 4,
     "metadata": {},
     "output_type": "execute_result"
    }
   ],
   "source": [
    "'in interval estimate range of value used to estimate the unkown population parameter '"
   ]
  },
  {
   "cell_type": "code",
   "execution_count": 5,
   "id": "f2df8d45-a0ce-44d4-8658-23e4efac60b8",
   "metadata": {},
   "outputs": [
    {
     "data": {
      "text/plain": [
       "'hypothesis testing is used to find coclusion from smaple data to population data '"
      ]
     },
     "execution_count": 5,
     "metadata": {},
     "output_type": "execute_result"
    }
   ],
   "source": [
    "'hypothesis testing is used to find coclusion from smaple data to population data '"
   ]
  },
  {
   "cell_type": "code",
   "execution_count": 1,
   "id": "127407b8-c829-4d93-89f3-61bf289b571c",
   "metadata": {},
   "outputs": [
    {
     "data": {
      "text/plain": [
       "'Null Hypothesis (H0) – This can be thought of as the implied hypothesis. “Null” meaning “nothing.”  This hypothesis states that there is no difference between groups or no relationship between variables'"
      ]
     },
     "execution_count": 1,
     "metadata": {},
     "output_type": "execute_result"
    }
   ],
   "source": [
    "\"Null Hypothesis (H0) – This can be thought of as the implied hypothesis. “Null” meaning “nothing.”  This hypothesis states that there is no difference between groups or no relationship between variables\""
   ]
  },
  {
   "cell_type": "code",
   "execution_count": 2,
   "id": "f7856425-6ac7-484c-92ba-2931999fb8a3",
   "metadata": {},
   "outputs": [
    {
     "data": {
      "text/plain": [
       "'Alternative Hypothesis (H1) – This is also known as the claim. This hypothesis should state what you expect the data to show, based on your research on the topic'"
      ]
     },
     "execution_count": 2,
     "metadata": {},
     "output_type": "execute_result"
    }
   ],
   "source": [
    "\"Alternative Hypothesis (H1) – This is also known as the claim. This hypothesis should state what you expect the data to show, based on your research on the topic\""
   ]
  },
  {
   "cell_type": "code",
   "execution_count": 4,
   "id": "61c02fbe-fd81-4b25-b706-b19a189e7114",
   "metadata": {},
   "outputs": [
    {
     "data": {
      "text/plain": [
       "'Null Hypothesis:  H0: There is no difference in the salary of factory workers based on gender. Alternative Hypothesis:  H1: Male factory workers have a higher salary than female factory workers'"
      ]
     },
     "execution_count": 4,
     "metadata": {},
     "output_type": "execute_result"
    }
   ],
   "source": [
    "\"Null Hypothesis:  H0: There is no difference in the salary of factory workers based on gender. Alternative Hypothesis:  H1: Male factory workers have a higher salary than female factory workers\""
   ]
  },
  {
   "cell_type": "code",
   "execution_count": 5,
   "id": "cd338023-0329-47ae-812e-8a64a834a6ed",
   "metadata": {},
   "outputs": [
    {
     "data": {
      "text/plain": [
       "'the step of hypothsis testing is fisrt we write null hypothisis second we write alternative hypothisis third step is experiments or proof colletion and the last step is accepet the null hypothesis or reject null hypothesis '"
      ]
     },
     "execution_count": 5,
     "metadata": {},
     "output_type": "execute_result"
    }
   ],
   "source": [
    "\"the step of hypothsis testing is fisrt we write null hypothisis second we write alternative hypothisis third step is experiments or proof colletion and the last step is accepet the null hypothesis or reject null hypothesis \""
   ]
  },
  {
   "cell_type": "code",
   "execution_count": 6,
   "id": "c63fa8c6-1e32-42c8-b170-6f5124920bb7",
   "metadata": {},
   "outputs": [
    {
     "data": {
      "text/plain": [
       "'the p value is a no. calculated from a statistical test,that describe how likely you are to have found a particular set of observation if the null hypothesis were true'"
      ]
     },
     "execution_count": 6,
     "metadata": {},
     "output_type": "execute_result"
    }
   ],
   "source": [
    "\"the p value is a no. calculated from a statistical test,that describe how likely you are to have found a particular set of observation if the null hypothesis were true\""
   ]
  },
  {
   "cell_type": "code",
   "execution_count": 7,
   "id": "e1f97154-bde6-48f7-9c32-2632ed2a546e",
   "metadata": {},
   "outputs": [
    {
     "data": {
      "text/plain": [
       "'p value is used for testing to help decide wether to reject the null hypothesis '"
      ]
     },
     "execution_count": 7,
     "metadata": {},
     "output_type": "execute_result"
    }
   ],
   "source": [
    "\"p value is used for testing to help decide wether to reject the null hypothesis \""
   ]
  },
  {
   "cell_type": "code",
   "execution_count": 8,
   "id": "4807d1e0-ba26-475f-8209-2255cc49a8b4",
   "metadata": {},
   "outputs": [
    {
     "data": {
      "text/plain": [
       "\"The Student's t-distribution plays a role in a number of widely used statistical analyses, including Student's t-test for assessing the statistical significance of the difference between two sample means, the construction of confidence intervals for the difference between two population means, and in linear\""
      ]
     },
     "execution_count": 8,
     "metadata": {},
     "output_type": "execute_result"
    }
   ],
   "source": [
    "\"The Student's t-distribution plays a role in a number of widely used statistical analyses, including Student's t-test for assessing the statistical significance of the difference between two sample means, the construction of confidence intervals for the difference between two population means, and in linear\""
   ]
  },
  {
   "cell_type": "code",
   "execution_count": 9,
   "id": "029860ef-5acb-4e60-b739-31c93249c895",
   "metadata": {},
   "outputs": [
    {
     "data": {
      "text/plain": [
       "' t test is used to perform an anlayis when we did not known the population std '"
      ]
     },
     "execution_count": 9,
     "metadata": {},
     "output_type": "execute_result"
    }
   ],
   "source": [
    "\" t test is used to perform an anlayis when we did not known the population std \""
   ]
  },
  {
   "cell_type": "code",
   "execution_count": 11,
   "id": "f7914879-d1fa-4c55-92c5-e44be252889a",
   "metadata": {},
   "outputs": [
    {
     "data": {
      "text/plain": [
       "'formula of t test is  t = (X‾ - μ) / (s / √n) '"
      ]
     },
     "execution_count": 11,
     "metadata": {},
     "output_type": "execute_result"
    }
   ],
   "source": [
    "\"formula of t test is  t = (X‾ - μ) / (s / √n) \""
   ]
  },
  {
   "cell_type": "code",
   "execution_count": null,
   "id": "2f3af4e4-ebd8-48f1-a8e4-c969eb7e561a",
   "metadata": {},
   "outputs": [],
   "source": []
  }
 ],
 "metadata": {
  "kernelspec": {
   "display_name": "Python 3 (ipykernel)",
   "language": "python",
   "name": "python3"
  },
  "language_info": {
   "codemirror_mode": {
    "name": "ipython",
    "version": 3
   },
   "file_extension": ".py",
   "mimetype": "text/x-python",
   "name": "python",
   "nbconvert_exporter": "python",
   "pygments_lexer": "ipython3",
   "version": "3.10.8"
  }
 },
 "nbformat": 4,
 "nbformat_minor": 5
}
