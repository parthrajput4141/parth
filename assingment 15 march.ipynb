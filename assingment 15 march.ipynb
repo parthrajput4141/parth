{
 "cells": [
  {
   "cell_type": "code",
   "execution_count": 2,
   "id": "bf190b3f-af58-4e44-a94e-a0a8c5a6ea51",
   "metadata": {},
   "outputs": [
    {
     "data": {
      "text/plain": [
       "'artificial inteligence (ai) : it is a smart application that can perform its owntask without any human intervention (examples are self driving cars alexa) '"
      ]
     },
     "execution_count": 2,
     "metadata": {},
     "output_type": "execute_result"
    }
   ],
   "source": [
    "\"artificial inteligence (ai) : it is a smart application that can perform its owntask without any human intervention (examples are self driving cars alexa) \""
   ]
  },
  {
   "cell_type": "code",
   "execution_count": 3,
   "id": "7331f310-0cea-4809-af50-d780e9b2224a",
   "metadata": {},
   "outputs": [
    {
     "data": {
      "text/plain": [
       "'machine laerning (ml) : it provide stat tool to analyze , visulazition , create productive model , frecasting (ezample are: amazon .in , netflix)'"
      ]
     },
     "execution_count": 3,
     "metadata": {},
     "output_type": "execute_result"
    }
   ],
   "source": [
    "\"machine laerning (ml) : it provide stat tool to analyze , visulazition , create productive model , frecasting (ezample are: amazon .in , netflix)\""
   ]
  },
  {
   "cell_type": "code",
   "execution_count": 4,
   "id": "39cf989d-676b-4faf-9e66-491d3c450858",
   "metadata": {},
   "outputs": [
    {
     "data": {
      "text/plain": [
       "'deep learning (dl) : it is a subset of machine learing . it mimic th human brain (eaxmples are chat bots)'"
      ]
     },
     "execution_count": 4,
     "metadata": {},
     "output_type": "execute_result"
    }
   ],
   "source": [
    "\"deep learning (dl) : it is a subset of machine learing . it mimic th human brain (eaxmples are chat bots)\""
   ]
  },
  {
   "cell_type": "code",
   "execution_count": 5,
   "id": "f9490efa-7f11-4732-be0a-bc1347fff124",
   "metadata": {},
   "outputs": [
    {
     "data": {
      "text/plain": [
       "'defination of supervised : Supervised learning, also known as supervised machine learning, is a subcategory of machine learning and artificial intelligence. It is defined by its use of labeled datasets to train algorithms that to classify data or predict outcomes accurately'"
      ]
     },
     "execution_count": 5,
     "metadata": {},
     "output_type": "execute_result"
    }
   ],
   "source": [
    "\"defination of supervised : Supervised learning, also known as supervised machine learning, is a subcategory of machine learning and artificial intelligence. It is defined by its use of labeled datasets to train algorithms that to classify data or predict outcomes accurately\""
   ]
  },
  {
   "cell_type": "code",
   "execution_count": 6,
   "id": "ac69a775-2a44-454e-8d39-171bdb41c1fd",
   "metadata": {},
   "outputs": [
    {
     "data": {
      "text/plain": [
       "'defination of unsupervised learning:Unsupervised learning is a type of machine learning in which models are trained using unlabeled dataset and are allowed to act on that data without any supervision. '"
      ]
     },
     "execution_count": 6,
     "metadata": {},
     "output_type": "execute_result"
    }
   ],
   "source": [
    "\"defination of unsupervised learning:Unsupervised learning is a type of machine learning in which models are trained using unlabeled dataset and are allowed to act on that data without any supervision. \""
   ]
  },
  {
   "cell_type": "code",
   "execution_count": 7,
   "id": "5b8a458a-0940-41ac-83d2-6b63c34d5a26",
   "metadata": {},
   "outputs": [
    {
     "data": {
      "text/plain": [
       "'Unsupervised learning cannot be directly applied to a regression or classification problem because unlike supervised learning, we have the input data but no corresponding output data. The goal of unsupervised learning is to find the underlying structure of dataset, group that data according to similarities, and represent that dataset in a compressed format.'"
      ]
     },
     "execution_count": 7,
     "metadata": {},
     "output_type": "execute_result"
    }
   ],
   "source": [
    "\"Unsupervised learning cannot be directly applied to a regression or classification problem because unlike supervised learning, we have the input data but no corresponding output data. The goal of unsupervised learning is to find the underlying structure of dataset, group that data according to similarities, and represent that dataset in a compressed format.\""
   ]
  },
  {
   "cell_type": "code",
   "execution_count": 8,
   "id": "62e97ef4-d74d-435c-bd8d-b49efc171489",
   "metadata": {},
   "outputs": [
    {
     "data": {
      "text/plain": [
       "'ml is the subset of ai and dl is the subset of ma'"
      ]
     },
     "execution_count": 8,
     "metadata": {},
     "output_type": "execute_result"
    }
   ],
   "source": [
    "\"ml is the subset of ai and dl is the subset of ma\""
   ]
  },
  {
   "cell_type": "code",
   "execution_count": null,
   "id": "9ed3ab7c-943e-4021-bc05-a06346c561ee",
   "metadata": {},
   "outputs": [],
   "source": []
  }
 ],
 "metadata": {
  "kernelspec": {
   "display_name": "Python 3 (ipykernel)",
   "language": "python",
   "name": "python3"
  },
  "language_info": {
   "codemirror_mode": {
    "name": "ipython",
    "version": 3
   },
   "file_extension": ".py",
   "mimetype": "text/x-python",
   "name": "python",
   "nbconvert_exporter": "python",
   "pygments_lexer": "ipython3",
   "version": "3.10.8"
  }
 },
 "nbformat": 4,
 "nbformat_minor": 5
}
