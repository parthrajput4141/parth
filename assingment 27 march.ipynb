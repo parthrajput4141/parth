{
 "cells": [
  {
   "cell_type": "code",
   "execution_count": 1,
   "id": "07fd8703-3bb4-48a1-8d1b-36d71c55ce35",
   "metadata": {},
   "outputs": [
    {
     "data": {
      "text/plain": [
       "' r-square in linear regersion models : it check the accuray our model and performance of our model. it is calcilated 1-(sum of square residial/sum of square total. its range 0 to 1) '"
      ]
     },
     "execution_count": 1,
     "metadata": {},
     "output_type": "execute_result"
    }
   ],
   "source": [
    "\" r-square in linear regersion models : it check the accuray our model and performance of our model. it is calcilated 1-(sum of square residial/sum of square total. its range 0 to 1) \""
   ]
  },
  {
   "cell_type": "code",
   "execution_count": 2,
   "id": "d5f042a7-4b15-4b62-b651-27a231756f3c",
   "metadata": {},
   "outputs": [
    {
     "data": {
      "text/plain": [
       "' adjusted r-square is : it controls the feature which is not important r -square doest not increased.its is calculated : 1-((1-rsquare)*(no.of data points-1)/(no. of data point-no.of independent feature-1))'"
      ]
     },
     "execution_count": 2,
     "metadata": {},
     "output_type": "execute_result"
    }
   ],
   "source": [
    "\" adjusted r-square is : it controls the feature which is not important r -square doest not increased.its is calculated : 1-((1-rsquare)*(no.of data points-1)/(no. of data point-no.of independent feature-1))\""
   ]
  },
  {
   "cell_type": "code",
   "execution_count": 3,
   "id": "44b97bee-7af4-48de-87a3-2eed59e6afa6",
   "metadata": {},
   "outputs": [
    {
     "data": {
      "text/plain": [
       "'mse : mean square error .this is a cost function . it is calculated 1/n submition 1 to n ( y_actual - y_predict)^2 '"
      ]
     },
     "execution_count": 3,
     "metadata": {},
     "output_type": "execute_result"
    }
   ],
   "source": [
    "\"mse : mean square error .this is a cost function . it is calculated 1/n submition 1 to n ( y_actual - y_predict)^2 \""
   ]
  },
  {
   "cell_type": "code",
   "execution_count": 4,
   "id": "6ad21571-3f4e-4131-8ac0-6fea035389c3",
   "metadata": {},
   "outputs": [
    {
     "data": {
      "text/plain": [
       "'mae : mean absolute error , this is also a cost function . it is calculated by 1/n submition 1 to n |y_actual - y_predict|'"
      ]
     },
     "execution_count": 4,
     "metadata": {},
     "output_type": "execute_result"
    }
   ],
   "source": [
    "\"mae : mean absolute error , this is also a cost function . it is calculated by 1/n submition 1 to n |y_actual - y_predict|\""
   ]
  },
  {
   "cell_type": "code",
   "execution_count": 5,
   "id": "90d3d79b-8676-4a82-b774-1b31cebd35a8",
   "metadata": {},
   "outputs": [
    {
     "data": {
      "text/plain": [
       "'rmse : root mean square error '"
      ]
     },
     "execution_count": 5,
     "metadata": {},
     "output_type": "execute_result"
    }
   ],
   "source": [
    "\"rmse : root mean square error \""
   ]
  },
  {
   "cell_type": "code",
   "execution_count": 7,
   "id": "e502495d-995a-4c15-8597-a9823555609b",
   "metadata": {},
   "outputs": [
    {
     "data": {
      "text/plain": [
       "'lasso regresion : a linear regression model that use for regulization. it is also known as l1 reguliaztion '"
      ]
     },
     "execution_count": 7,
     "metadata": {},
     "output_type": "execute_result"
    }
   ],
   "source": [
    "\"lasso regresion : a linear regression model that use for regulization. it is also known as l1 reguliaztion \""
   ]
  },
  {
   "cell_type": "code",
   "execution_count": 8,
   "id": "a936adc5-e9ec-4276-9263-02e9b65b2574",
   "metadata": {},
   "outputs": [
    {
     "data": {
      "text/plain": [
       "'purpose of lasso regulization : feautere selction ,accury of the model'"
      ]
     },
     "execution_count": 8,
     "metadata": {},
     "output_type": "execute_result"
    }
   ],
   "source": [
    "\"purpose of lasso regulization : feautere selction ,accury of the model\""
   ]
  },
  {
   "cell_type": "code",
   "execution_count": 9,
   "id": "5da27780-2165-465c-b18f-c3a6dd56c659",
   "metadata": {},
   "outputs": [
    {
     "data": {
      "text/plain": [
       "'How do regularized linear models help to prevent overfitting in machine learning : with the help of ridge regerssion '"
      ]
     },
     "execution_count": 9,
     "metadata": {},
     "output_type": "execute_result"
    }
   ],
   "source": [
    "\"How do regularized linear models help to prevent overfitting in machine learning : with the help of ridge regerssion \""
   ]
  },
  {
   "cell_type": "code",
   "execution_count": null,
   "id": "1349b64d-713d-4ae1-bb55-0c4ba7203a6a",
   "metadata": {},
   "outputs": [],
   "source": []
  }
 ],
 "metadata": {
  "kernelspec": {
   "display_name": "Python 3 (ipykernel)",
   "language": "python",
   "name": "python3"
  },
  "language_info": {
   "codemirror_mode": {
    "name": "ipython",
    "version": 3
   },
   "file_extension": ".py",
   "mimetype": "text/x-python",
   "name": "python",
   "nbconvert_exporter": "python",
   "pygments_lexer": "ipython3",
   "version": "3.10.8"
  }
 },
 "nbformat": 4,
 "nbformat_minor": 5
}
