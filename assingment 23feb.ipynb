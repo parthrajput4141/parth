{
 "cells": [
  {
   "cell_type": "code",
   "execution_count": 1,
   "id": "26157167-8dca-48ce-b347-7ef1479e0fbc",
   "metadata": {},
   "outputs": [
    {
     "name": "stdout",
     "output_type": "stream",
     "text": [
      "Requirement already satisfied: pandas in /opt/conda/lib/python3.10/site-packages (1.5.2)\n",
      "Requirement already satisfied: python-dateutil>=2.8.1 in /opt/conda/lib/python3.10/site-packages (from pandas) (2.8.2)\n",
      "Requirement already satisfied: pytz>=2020.1 in /opt/conda/lib/python3.10/site-packages (from pandas) (2022.6)\n",
      "Requirement already satisfied: numpy>=1.21.0 in /opt/conda/lib/python3.10/site-packages (from pandas) (1.23.5)\n",
      "Requirement already satisfied: six>=1.5 in /opt/conda/lib/python3.10/site-packages (from python-dateutil>=2.8.1->pandas) (1.16.0)\n",
      "Note: you may need to restart the kernel to use updated packages.\n"
     ]
    }
   ],
   "source": [
    "pip install pandas"
   ]
  },
  {
   "cell_type": "code",
   "execution_count": 2,
   "id": "bb4e6193-871c-4407-bf63-229a0b620887",
   "metadata": {},
   "outputs": [],
   "source": [
    "import pandas as pd"
   ]
  },
  {
   "cell_type": "code",
   "execution_count": 3,
   "id": "b52a5b2d-9b18-40cd-b131-0f5f52287f5c",
   "metadata": {},
   "outputs": [],
   "source": [
    "data =[4, 8, 15, 16, 23,  42.]"
   ]
  },
  {
   "cell_type": "code",
   "execution_count": 4,
   "id": "a5f65dec-b10b-4d1a-93bd-2f99f42aa31b",
   "metadata": {},
   "outputs": [],
   "source": [
    "df = pd.Series(data)"
   ]
  },
  {
   "cell_type": "code",
   "execution_count": 5,
   "id": "19bb1e85-1f24-4e2f-9b32-d6ddee650980",
   "metadata": {},
   "outputs": [
    {
     "data": {
      "text/plain": [
       "0     4.0\n",
       "1     8.0\n",
       "2    15.0\n",
       "3    16.0\n",
       "4    23.0\n",
       "5    42.0\n",
       "dtype: float64"
      ]
     },
     "execution_count": 5,
     "metadata": {},
     "output_type": "execute_result"
    }
   ],
   "source": [
    "df"
   ]
  },
  {
   "cell_type": "code",
   "execution_count": 6,
   "id": "87aeda0c-061a-4ad1-a5fc-e374fc7efa8b",
   "metadata": {},
   "outputs": [
    {
     "data": {
      "text/plain": [
       "pandas.core.series.Series"
      ]
     },
     "execution_count": 6,
     "metadata": {},
     "output_type": "execute_result"
    }
   ],
   "source": [
    "type(df)"
   ]
  },
  {
   "cell_type": "code",
   "execution_count": 7,
   "id": "9b0afc85-027e-45cc-999d-25ffd9690b00",
   "metadata": {},
   "outputs": [],
   "source": [
    "varible = [1,3,5,\"parth\",\"mayank\",928.783,4141,[7,8],\"don\",10]"
   ]
  },
  {
   "cell_type": "code",
   "execution_count": 8,
   "id": "710e4322-5847-4391-930c-25444e09e7d1",
   "metadata": {},
   "outputs": [],
   "source": [
    "df1 = pd.Series(varible)"
   ]
  },
  {
   "cell_type": "code",
   "execution_count": 9,
   "id": "e9d7264e-7129-4a98-a94b-8298b98ce1e8",
   "metadata": {},
   "outputs": [
    {
     "data": {
      "text/plain": [
       "0          1\n",
       "1          3\n",
       "2          5\n",
       "3      parth\n",
       "4     mayank\n",
       "5    928.783\n",
       "6       4141\n",
       "7     [7, 8]\n",
       "8        don\n",
       "9         10\n",
       "dtype: object"
      ]
     },
     "execution_count": 9,
     "metadata": {},
     "output_type": "execute_result"
    }
   ],
   "source": [
    "df1"
   ]
  },
  {
   "cell_type": "code",
   "execution_count": 10,
   "id": "2a36999b-4fe1-4d29-bf72-74a02397a655",
   "metadata": {},
   "outputs": [],
   "source": [
    "data1 = [['Alice',25,\"Female\"] ,['Bob' ,30 , \"male\"],['Claire' , 27, \"Female\"]]"
   ]
  },
  {
   "cell_type": "code",
   "execution_count": 13,
   "id": "4e232843-1400-454a-8065-1a6cfb2c7b4f",
   "metadata": {},
   "outputs": [],
   "source": [
    "df2 = pd.DataFrame(data1, columns=[\"Name\",\"Age\",\"Gender\"])"
   ]
  },
  {
   "cell_type": "code",
   "execution_count": 14,
   "id": "937b6968-957c-49f3-be11-0ac51e8c30b2",
   "metadata": {},
   "outputs": [
    {
     "data": {
      "text/html": [
       "<div>\n",
       "<style scoped>\n",
       "    .dataframe tbody tr th:only-of-type {\n",
       "        vertical-align: middle;\n",
       "    }\n",
       "\n",
       "    .dataframe tbody tr th {\n",
       "        vertical-align: top;\n",
       "    }\n",
       "\n",
       "    .dataframe thead th {\n",
       "        text-align: right;\n",
       "    }\n",
       "</style>\n",
       "<table border=\"1\" class=\"dataframe\">\n",
       "  <thead>\n",
       "    <tr style=\"text-align: right;\">\n",
       "      <th></th>\n",
       "      <th>Name</th>\n",
       "      <th>Age</th>\n",
       "      <th>Gender</th>\n",
       "    </tr>\n",
       "  </thead>\n",
       "  <tbody>\n",
       "    <tr>\n",
       "      <th>0</th>\n",
       "      <td>Alice</td>\n",
       "      <td>25</td>\n",
       "      <td>Female</td>\n",
       "    </tr>\n",
       "    <tr>\n",
       "      <th>1</th>\n",
       "      <td>Bob</td>\n",
       "      <td>30</td>\n",
       "      <td>male</td>\n",
       "    </tr>\n",
       "    <tr>\n",
       "      <th>2</th>\n",
       "      <td>Claire</td>\n",
       "      <td>27</td>\n",
       "      <td>Female</td>\n",
       "    </tr>\n",
       "  </tbody>\n",
       "</table>\n",
       "</div>"
      ],
      "text/plain": [
       "     Name  Age  Gender\n",
       "0   Alice   25  Female\n",
       "1     Bob   30    male\n",
       "2  Claire   27  Female"
      ]
     },
     "execution_count": 14,
     "metadata": {},
     "output_type": "execute_result"
    }
   ],
   "source": [
    "df2"
   ]
  },
  {
   "cell_type": "code",
   "execution_count": 15,
   "id": "cf7e9a29-b122-4799-bb46-ac7368fce7bb",
   "metadata": {},
   "outputs": [
    {
     "data": {
      "text/plain": [
       "'DataFrame is a 2-dimensional labeled data structure with columns of potentially different types'"
      ]
     },
     "execution_count": 15,
     "metadata": {},
     "output_type": "execute_result"
    }
   ],
   "source": [
    "\"DataFrame is a 2-dimensional labeled data structure with columns of potentially different types\""
   ]
  },
  {
   "cell_type": "code",
   "execution_count": 16,
   "id": "c1fcd37d-f109-48a8-8f53-78f8d9fda6c2",
   "metadata": {},
   "outputs": [
    {
     "data": {
      "text/plain": [
       "' some common function used in pandas data frame are  read_csv(), .head() , .tail() .,maim(), .dtypoes()'"
      ]
     },
     "execution_count": 16,
     "metadata": {},
     "output_type": "execute_result"
    }
   ],
   "source": [
    "\" some common function used in pandas data frame are  read_csv(), .head() , .tail() .,maim(), .dtypoes()\""
   ]
  },
  {
   "cell_type": "code",
   "execution_count": 17,
   "id": "012a2c34-7465-400f-af10-105a9a5a9fb6",
   "metadata": {},
   "outputs": [
    {
     "data": {
      "text/plain": [
       "'dataframe is matuable'"
      ]
     },
     "execution_count": 17,
     "metadata": {},
     "output_type": "execute_result"
    }
   ],
   "source": [
    "\"dataframe is matuable\""
   ]
  },
  {
   "cell_type": "code",
   "execution_count": null,
   "id": "8ac06414-d388-4deb-be2e-9f62c14c29ed",
   "metadata": {},
   "outputs": [],
   "source": []
  }
 ],
 "metadata": {
  "kernelspec": {
   "display_name": "Python 3 (ipykernel)",
   "language": "python",
   "name": "python3"
  },
  "language_info": {
   "codemirror_mode": {
    "name": "ipython",
    "version": 3
   },
   "file_extension": ".py",
   "mimetype": "text/x-python",
   "name": "python",
   "nbconvert_exporter": "python",
   "pygments_lexer": "ipython3",
   "version": "3.10.8"
  }
 },
 "nbformat": 4,
 "nbformat_minor": 5
}
