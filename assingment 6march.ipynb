{
 "cells": [
  {
   "cell_type": "code",
   "execution_count": 1,
   "id": "79ccb49a-0af2-4d28-b1b5-67f9233ee822",
   "metadata": {},
   "outputs": [
    {
     "data": {
      "text/plain": [
       "'static is th science of collecting ,analazing and organising of the data'"
      ]
     },
     "execution_count": 1,
     "metadata": {},
     "output_type": "execute_result"
    }
   ],
   "source": [
    "\"static is th science of collecting ,analazing and organising of the data\""
   ]
  },
  {
   "cell_type": "code",
   "execution_count": 2,
   "id": "8a7f9c41-9958-47d5-8993-8f95c719a5a8",
   "metadata": {},
   "outputs": [
    {
     "data": {
      "text/plain": [
       "'types of statics are dirst is descriptive statistics and the second is inferential statistics  '"
      ]
     },
     "execution_count": 2,
     "metadata": {},
     "output_type": "execute_result"
    }
   ],
   "source": [
    "\"types of statics are dirst is descriptive statistics and the second is inferential statistics  \""
   ]
  },
  {
   "cell_type": "code",
   "execution_count": 3,
   "id": "e661c9ef-cde1-4f31-9f0b-47570fac1f41",
   "metadata": {},
   "outputs": [
    {
     "data": {
      "text/plain": [
       "'in the ststistics theur are two types of data first  is quantitative data and the second is qualitative data  '"
      ]
     },
     "execution_count": 3,
     "metadata": {},
     "output_type": "execute_result"
    }
   ],
   "source": [
    "\"in the ststistics theur are two types of data first  is quantitative data and the second is qualitative data  \""
   ]
  },
  {
   "cell_type": "code",
   "execution_count": 4,
   "id": "631c3324-bd4e-4746-b956-ac9013414176",
   "metadata": {},
   "outputs": [
    {
     "data": {
      "text/plain": [
       "'in the quantitative data is me numerical value or data hota h numerical function is me sare use honnge jaise add,sub,div,mul  '"
      ]
     },
     "execution_count": 4,
     "metadata": {},
     "output_type": "execute_result"
    }
   ],
   "source": [
    "\"in the quantitative data is me numerical value or data hota h numerical function is me sare use honnge jaise add,sub,div,mul  \""
   ]
  },
  {
   "cell_type": "code",
   "execution_count": 5,
   "id": "b06b31a1-5748-4a71-9b01-49af64aea8a3",
   "metadata": {},
   "outputs": [
    {
     "data": {
      "text/plain": [
       "'in the qualitative data in this catorical data hota h two types of data in this data type first is nominal and second is ordinal '"
      ]
     },
     "execution_count": 5,
     "metadata": {},
     "output_type": "execute_result"
    }
   ],
   "source": [
    "\"in the qualitative data in this catorical data hota h two types of data in this data type first is nominal and second is ordinal \""
   ]
  },
  {
   "cell_type": "code",
   "execution_count": 7,
   "id": "58c21a09-97e3-4577-963a-e6306e1fb963",
   "metadata": {},
   "outputs": [
    {
     "data": {
      "text/plain": [
       "'gradeing in exam is : qualitative data , heights in class: quantitavive data ,colurs of mangoes: qualitattive data'"
      ]
     },
     "execution_count": 7,
     "metadata": {},
     "output_type": "execute_result"
    }
   ],
   "source": [
    "\"gradeing in exam is : qualitative data , heights in class: quantitavive data ,colurs of mangoes: qualitattive data\"\n",
    "\n"
   ]
  },
  {
   "cell_type": "code",
   "execution_count": 8,
   "id": "5dfc4a62-1a51-42ee-8b21-f67b80dd6af6",
   "metadata": {},
   "outputs": [
    {
     "data": {
      "text/plain": [
       "'nominal data is differnt form ordinal data because noinal data have no rank and oder does not matter is required and in the ordinal data rank is required'"
      ]
     },
     "execution_count": 8,
     "metadata": {},
     "output_type": "execute_result"
    }
   ],
   "source": [
    "\"nominal data is differnt form ordinal data because noinal data have no rank and oder does not matter is required and in the ordinal data rank is required\""
   ]
  },
  {
   "cell_type": "code",
   "execution_count": 9,
   "id": "903bc3ab-f866-4188-b40c-fb9d2f807b05",
   "metadata": {},
   "outputs": [
    {
     "data": {
      "text/plain": [
       "'type of plot can be used to display data in terms of range : histogram is used '"
      ]
     },
     "execution_count": 9,
     "metadata": {},
     "output_type": "execute_result"
    }
   ],
   "source": [
    "\"type of plot can be used to display data in terms of range : histogram is used \""
   ]
  },
  {
   "cell_type": "code",
   "execution_count": 10,
   "id": "39584afd-2f68-4826-827b-368ca75ce402",
   "metadata": {},
   "outputs": [
    {
     "data": {
      "text/plain": [
       "'difference between descriptive statistic and inferictical statistic are Descriptive statistics summarize and describe data, while inferential statistics draw conclusions and make predictions about populations based on sample data.'"
      ]
     },
     "execution_count": 10,
     "metadata": {},
     "output_type": "execute_result"
    }
   ],
   "source": [
    "'difference between descriptive statistic and inferictical statistic are Descriptive statistics summarize and describe data, while inferential statistics draw conclusions and make predictions about populations based on sample data.'"
   ]
  },
  {
   "cell_type": "code",
   "execution_count": 11,
   "id": "e2e7be36-c62d-43fa-8349-74e535cdda36",
   "metadata": {},
   "outputs": [
    {
     "data": {
      "text/plain": [
       "'An example of a descriptive statistic is the mean (average) of a dataset, which provides a measure of central tendency and describes the typical value within the dataset.'"
      ]
     },
     "execution_count": 11,
     "metadata": {},
     "output_type": "execute_result"
    }
   ],
   "source": [
    "\"An example of a descriptive statistic is the mean (average) of a dataset, which provides a measure of central tendency and describes the typical value within the dataset.\""
   ]
  },
  {
   "cell_type": "code",
   "execution_count": 12,
   "id": "4fcdd27c-759e-403d-bab3-7bff24ecb168",
   "metadata": {},
   "outputs": [
    {
     "data": {
      "text/plain": [
       "'An example of inferential statistics is hypothesis testing, where sample data is used to test a claim or hypothesis about a population and make conclusions about the population based on the results'"
      ]
     },
     "execution_count": 12,
     "metadata": {},
     "output_type": "execute_result"
    }
   ],
   "source": [
    "\"An example of inferential statistics is hypothesis testing, where sample data is used to test a claim or hypothesis about a population and make conclusions about the population based on the results\""
   ]
  },
  {
   "cell_type": "code",
   "execution_count": 13,
   "id": "0d8db9c5-fca0-44a2-8a95-496ccc17cc2a",
   "metadata": {},
   "outputs": [
    {
     "data": {
      "text/plain": [
       "'measure of central tendancy of data by  three methods : 1 is mean ,2 is median ,3 is mode '"
      ]
     },
     "execution_count": 13,
     "metadata": {},
     "output_type": "execute_result"
    }
   ],
   "source": [
    "\"measure of central tendancy of data by  three methods : 1 is mean ,2 is median ,3 is mode \""
   ]
  },
  {
   "cell_type": "code",
   "execution_count": null,
   "id": "f6269b69-76c0-47a6-93d5-735453335677",
   "metadata": {},
   "outputs": [],
   "source": []
  }
 ],
 "metadata": {
  "kernelspec": {
   "display_name": "Python 3 (ipykernel)",
   "language": "python",
   "name": "python3"
  },
  "language_info": {
   "codemirror_mode": {
    "name": "ipython",
    "version": 3
   },
   "file_extension": ".py",
   "mimetype": "text/x-python",
   "name": "python",
   "nbconvert_exporter": "python",
   "pygments_lexer": "ipython3",
   "version": "3.10.8"
  }
 },
 "nbformat": 4,
 "nbformat_minor": 5
}
