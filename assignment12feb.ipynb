{
 "cells": [
  {
   "cell_type": "code",
   "execution_count": 1,
   "id": "70a0f6c6-6a11-4c01-9307-529031ec4816",
   "metadata": {},
   "outputs": [
    {
     "data": {
      "text/plain": [
       "'exception iis define as  an error that happens during the execution of a program.'"
      ]
     },
     "execution_count": 1,
     "metadata": {},
     "output_type": "execute_result"
    }
   ],
   "source": [
    "'exception iis define as  an error that happens during the execution of a program.'"
   ]
  },
  {
   "cell_type": "code",
   "execution_count": 3,
   "id": "7b1b4a10-5532-4f0c-a45d-cdfff0529c15",
   "metadata": {},
   "outputs": [
    {
     "data": {
      "text/plain": [
       "'syntax error jo h woh hmare structure of program ko bachata h or ayhi exception error hone baad bhi use aage bada deta h'"
      ]
     },
     "execution_count": 3,
     "metadata": {},
     "output_type": "execute_result"
    }
   ],
   "source": [
    "\"syntax error jo h woh hmare structure of program ko bachata h or ayhi exception error hone baad bhi use aage bada deta h\""
   ]
  },
  {
   "cell_type": "code",
   "execution_count": 4,
   "id": "a1012b31-2419-4cb0-8d43-a88a26dd50bd",
   "metadata": {},
   "outputs": [
    {
     "data": {
      "text/plain": [
       "'for handling the excpetion are 1= try, 2=excepet '"
      ]
     },
     "execution_count": 4,
     "metadata": {},
     "output_type": "execute_result"
    }
   ],
   "source": [
    "\"for handling the excpetion are 1= try, 2=excepet \""
   ]
  },
  {
   "cell_type": "code",
   "execution_count": 5,
   "id": "a6d70cae-67bf-42f0-9d26-5aaf433035cb",
   "metadata": {},
   "outputs": [
    {
     "name": "stdout",
     "output_type": "stream",
     "text": [
      "error by me  division by zero\n"
     ]
    }
   ],
   "source": [
    "try:\n",
    "    a=10/0\n",
    "except Exception as e:\n",
    "    print(\"error by me \",e)\n",
    "    "
   ]
  },
  {
   "cell_type": "code",
   "execution_count": 6,
   "id": "326b1243-4612-4ff4-8b26-ed5205ef24d9",
   "metadata": {},
   "outputs": [],
   "source": [
    "try:\n",
    "    f=open(\"papa.txt\",'w')\n",
    "    f.write(\"my best is best\")\n",
    "except Exception as e:\n",
    "    print(\"no error\",e)\n",
    "else:\n",
    "    f.close()"
   ]
  },
  {
   "cell_type": "code",
   "execution_count": 9,
   "id": "f362f808-e489-4c32-8f8c-f3a7a10dd5dd",
   "metadata": {},
   "outputs": [
    {
     "name": "stdout",
     "output_type": "stream",
     "text": [
      "2.0\n"
     ]
    }
   ],
   "source": [
    "try:\n",
    "    f=open(\"papa.txt\",'w')\n",
    "    f.write(\"my best is best\")\n",
    "except Exception as e:\n",
    "    print(\"no error\",e)\n",
    "else:\n",
    "    f.close()\n",
    "finally:\n",
    "    \n",
    "    print(10/5)"
   ]
  },
  {
   "cell_type": "code",
   "execution_count": 10,
   "id": "bb6b44af-0871-4958-914d-d449dc8d2745",
   "metadata": {},
   "outputs": [
    {
     "name": "stdin",
     "output_type": "stream",
     "text": [
      "enter the price 76\n"
     ]
    }
   ],
   "source": [
    "car_price=int(input(\"enter the price\")) "
   ]
  },
  {
   "cell_type": "code",
   "execution_count": 14,
   "id": "1a99e398-cbc5-4f39-a269-556d4276ab67",
   "metadata": {},
   "outputs": [],
   "source": [
    "class car_model(Exception):\n",
    "    \n",
    "     def __init__(self,msg):\n",
    "        self.msg=msg"
   ]
  },
  {
   "cell_type": "code",
   "execution_count": 16,
   "id": "18ff52fd-82f0-4734-9279-02ac2a09d1cb",
   "metadata": {},
   "outputs": [],
   "source": [
    "def car(car_price):\n",
    "    if car_price>1000:\n",
    "        raise car_model(\"scorpio\")\n",
    "    elif car_price<500:\n",
    "        raise car_model(\"maruti\")\n",
    "    else :\n",
    "        print(car_model)"
   ]
  },
  {
   "cell_type": "code",
   "execution_count": 18,
   "id": "cb1524aa-7a4f-494c-ac9c-8a5c48beea4f",
   "metadata": {},
   "outputs": [
    {
     "name": "stdin",
     "output_type": "stream",
     "text": [
      "enter the price 1500\n"
     ]
    },
    {
     "name": "stdout",
     "output_type": "stream",
     "text": [
      "scorpio\n"
     ]
    }
   ],
   "source": [
    "try:\n",
    "    car_price=int(input(\"enter the price\"))\n",
    "    car(car_price)\n",
    "except car_model as e:\n",
    "    print(e)\n",
    "    \n",
    "    "
   ]
  },
  {
   "cell_type": "code",
   "execution_count": null,
   "id": "6f27e9a3-3b5d-4145-bf9b-ea716b3cc2ba",
   "metadata": {},
   "outputs": [],
   "source": [
    "'custom function '"
   ]
  }
 ],
 "metadata": {
  "kernelspec": {
   "display_name": "Python 3 (ipykernel)",
   "language": "python",
   "name": "python3"
  },
  "language_info": {
   "codemirror_mode": {
    "name": "ipython",
    "version": 3
   },
   "file_extension": ".py",
   "mimetype": "text/x-python",
   "name": "python",
   "nbconvert_exporter": "python",
   "pygments_lexer": "ipython3",
   "version": "3.10.8"
  }
 },
 "nbformat": 4,
 "nbformat_minor": 5
}
