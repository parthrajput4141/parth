{
 "cells": [
  {
   "cell_type": "code",
   "execution_count": 3,
   "id": "15c48bb6-6541-44a4-bea0-a5106703a94d",
   "metadata": {},
   "outputs": [
    {
     "data": {
      "text/plain": [
       "'multi threading is the procerss in which we use one core and run multiple progmar/function in a single core '"
      ]
     },
     "execution_count": 3,
     "metadata": {},
     "output_type": "execute_result"
    }
   ],
   "source": [
    "'multi threading is the procerss in which we use one core and run multiple progmar/function in a single core ' "
   ]
  },
  {
   "cell_type": "code",
   "execution_count": 2,
   "id": "38c47595-b0ae-4ab0-9556-68091d69b276",
   "metadata": {},
   "outputs": [
    {
     "data": {
      "text/plain": [
       "'module which handle the threading= import threading  '"
      ]
     },
     "execution_count": 2,
     "metadata": {},
     "output_type": "execute_result"
    }
   ],
   "source": [
    "\"module which handle the threading= import threading  \""
   ]
  },
  {
   "cell_type": "code",
   "execution_count": 4,
   "id": "11128132-3933-44f6-a4c7-53abea9566b8",
   "metadata": {},
   "outputs": [
    {
     "data": {
      "text/plain": [
       "'advantage of multithreading Enhanced performance by decreased development time'"
      ]
     },
     "execution_count": 4,
     "metadata": {},
     "output_type": "execute_result"
    }
   ],
   "source": [
    "'advantage of multithreading Enhanced performance by decreased development time'\n",
    " "
   ]
  },
  {
   "cell_type": "code",
   "execution_count": 5,
   "id": "17d44f2b-c6b9-4039-b64d-587a84a43c8d",
   "metadata": {},
   "outputs": [
    {
     "data": {
      "text/plain": [
       "'Decreased cost of maintenance Better use of CPU resource'"
      ]
     },
     "execution_count": 5,
     "metadata": {},
     "output_type": "execute_result"
    }
   ],
   "source": [
    "'Decreased cost of maintenance Better use of CPU resource'"
   ]
  },
  {
   "cell_type": "code",
   "execution_count": 7,
   "id": "c4d27e42-342e-4122-adaa-0689c4daae76",
   "metadata": {},
   "outputs": [
    {
     "data": {
      "text/plain": [
       "'disadvantage of multithreading are ,Complex debugging and testing processes,Increased difficulty level in writing a program'"
      ]
     },
     "execution_count": 7,
     "metadata": {},
     "output_type": "execute_result"
    }
   ],
   "source": [
    "'disadvantage of multithreading are ,Complex debugging and testing processes,Increased difficulty level in writing a program'"
   ]
  },
  {
   "cell_type": "code",
   "execution_count": null,
   "id": "17ac50a4-a9f2-48c7-bbc4-0f89bf32c867",
   "metadata": {},
   "outputs": [],
   "source": []
  }
 ],
 "metadata": {
  "kernelspec": {
   "display_name": "Python 3 (ipykernel)",
   "language": "python",
   "name": "python3"
  },
  "language_info": {
   "codemirror_mode": {
    "name": "ipython",
    "version": 3
   },
   "file_extension": ".py",
   "mimetype": "text/x-python",
   "name": "python",
   "nbconvert_exporter": "python",
   "pygments_lexer": "ipython3",
   "version": "3.10.8"
  }
 },
 "nbformat": 4,
 "nbformat_minor": 5
}
