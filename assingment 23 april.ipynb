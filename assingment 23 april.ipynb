{
 "cells": [
  {
   "cell_type": "code",
   "execution_count": 1,
   "id": "2dfdad0a-f664-4c05-ae5b-fa4d21c33046",
   "metadata": {},
   "outputs": [
    {
     "data": {
      "text/plain": [
       "\"curse of dimensionality = The phenomenon when a machine learning model's accuracy decreases, although increasing the number of features after a certain threshold, is called the curse of dimensionality\""
      ]
     },
     "execution_count": 1,
     "metadata": {},
     "output_type": "execute_result"
    }
   ],
   "source": [
    "\"curse of dimensionality = The phenomenon when a machine learning model's accuracy decreases, although increasing the number of features after a certain threshold, is called the curse of dimensionality\""
   ]
  },
  {
   "cell_type": "code",
   "execution_count": 2,
   "id": "2fe7d64d-3411-4d82-9c92-23d5c2e5e5cb",
   "metadata": {},
   "outputs": [
    {
     "data": {
      "text/plain": [
       "'it is important because it make it harder to find meanginfful patterns in high dinmensional data '"
      ]
     },
     "execution_count": 2,
     "metadata": {},
     "output_type": "execute_result"
    }
   ],
   "source": [
    "\"it is important because it make it harder to find meanginfful patterns in high dinmensional data \""
   ]
  },
  {
   "cell_type": "code",
   "execution_count": 3,
   "id": "04fa524e-666d-49a0-a36a-1bdfff35efba",
   "metadata": {},
   "outputs": [
    {
     "data": {
      "text/plain": [
       "'the curse of dimensionality impact the performance of machine learning algorithms by the accuracy of the model , and increse the  complecity of the model'"
      ]
     },
     "execution_count": 3,
     "metadata": {},
     "output_type": "execute_result"
    }
   ],
   "source": [
    "\"the curse of dimensionality impact the performance of machine learning algorithms by the accuracy of the model , and increse the  complecity of the model\""
   ]
  },
  {
   "cell_type": "code",
   "execution_count": 5,
   "id": "fa51e684-d6e1-4f6c-a345-5a8e351b7aea",
   "metadata": {},
   "outputs": [
    {
     "data": {
      "text/plain": [
       "'feature seltion wale method me hm 2d se hm 1d me convert kar denge or isme hm use karenge jo sabbse jada important features hotw h woh or baki ko neglet karenge |'"
      ]
     },
     "execution_count": 5,
     "metadata": {},
     "output_type": "execute_result"
    }
   ],
   "source": [
    "\"feature seltion wale method me hm 2d se hm 1d me convert kar denge or isme hm use karenge jo sabbse jada important features hotw h woh or baki ko neglet karenge |\""
   ]
  },
  {
   "cell_type": "code",
   "execution_count": 6,
   "id": "7cfc699c-9449-48a9-bb68-2474c371ef20",
   "metadata": {},
   "outputs": [
    {
     "data": {
      "text/plain": [
       "' Disadvantage of  dimensionalty Reduction  are We lost some data during the dimensionality reduction process, which can impact how well future training algorithms work'"
      ]
     },
     "execution_count": 6,
     "metadata": {},
     "output_type": "execute_result"
    }
   ],
   "source": [
    "\" Disadvantage of  dimensionalty Reduction  are We lost some data during the dimensionality reduction process, which can impact how well future training algorithms work\""
   ]
  },
  {
   "cell_type": "code",
   "execution_count": 8,
   "id": "6d3088fa-5d84-42e6-b362-df21742eabec",
   "metadata": {},
   "outputs": [
    {
     "data": {
      "text/plain": [
       "'2) drawback is the independent variables become harder to comprehend as a result'"
      ]
     },
     "execution_count": 8,
     "metadata": {},
     "output_type": "execute_result"
    }
   ],
   "source": [
    "\"2) drawback is the independent variables become harder to comprehend as a result\""
   ]
  },
  {
   "cell_type": "code",
   "execution_count": null,
   "id": "022341b7-2f01-46b2-9762-da132e08836a",
   "metadata": {},
   "outputs": [],
   "source": [
    "it may need a lot of processing power"
   ]
  }
 ],
 "metadata": {
  "kernelspec": {
   "display_name": "Python 3 (ipykernel)",
   "language": "python",
   "name": "python3"
  },
  "language_info": {
   "codemirror_mode": {
    "name": "ipython",
    "version": 3
   },
   "file_extension": ".py",
   "mimetype": "text/x-python",
   "name": "python",
   "nbconvert_exporter": "python",
   "pygments_lexer": "ipython3",
   "version": "3.10.8"
  }
 },
 "nbformat": 4,
 "nbformat_minor": 5
}
