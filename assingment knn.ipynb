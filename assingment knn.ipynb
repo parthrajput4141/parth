{
 "cells": [
  {
   "cell_type": "code",
   "execution_count": 1,
   "id": "35c350cc-92a3-454e-9e7e-85dfd2481dbb",
   "metadata": {},
   "outputs": [
    {
     "data": {
      "text/plain": [
       "'KNN = K Nearest Neighors . this algorithum solve both problems claasification and regression '"
      ]
     },
     "execution_count": 1,
     "metadata": {},
     "output_type": "execute_result"
    }
   ],
   "source": [
    "\"KNN = K Nearest Neighors . this algorithum solve both problems claasification and regression \""
   ]
  },
  {
   "cell_type": "code",
   "execution_count": 2,
   "id": "b055a92f-74f9-4f3e-b158-89e3342c487f",
   "metadata": {},
   "outputs": [
    {
     "data": {
      "text/plain": [
       "'It belongs to the supervised learning domain and finds intense application in pattern recognition, data mining, and intrusion detection.'"
      ]
     },
     "execution_count": 2,
     "metadata": {},
     "output_type": "execute_result"
    }
   ],
   "source": [
    "\"It belongs to the supervised learning domain and finds intense application in pattern recognition, data mining, and intrusion detection.\""
   ]
  },
  {
   "cell_type": "code",
   "execution_count": 3,
   "id": "3c0796de-04d8-4df8-be82-7d6db81487ea",
   "metadata": {},
   "outputs": [
    {
     "data": {
      "text/plain": [
       "'the majour differnce bt KKN classifier and KNN regresssor is KNN classifer predict discrete value and KNN regressor predict continous value '"
      ]
     },
     "execution_count": 3,
     "metadata": {},
     "output_type": "execute_result"
    }
   ],
   "source": [
    "\"the majour differnce bt KKN classifier and KNN regresssor is KNN classifer predict discrete value and KNN regressor predict continous value \""
   ]
  },
  {
   "cell_type": "code",
   "execution_count": 5,
   "id": "8d65dd93-3c15-42ed-8b8f-a8f730dd1a50",
   "metadata": {},
   "outputs": [
    {
     "data": {
      "text/plain": [
       "'handle miossing in KNN  values by usesing imputation methhod to estimate the missing value'"
      ]
     },
     "execution_count": 5,
     "metadata": {},
     "output_type": "execute_result"
    }
   ],
   "source": [
    "\"handle miossing in KNN  values by usesing imputation methhod to estimate the missing value\""
   ]
  },
  {
   "cell_type": "code",
   "execution_count": 6,
   "id": "d558a92a-ca35-4b49-af22-b0970b6420ec",
   "metadata": {},
   "outputs": [
    {
     "data": {
      "text/plain": [
       "'KNN is very susceptible to overfitting due to the curse of dimensionality. Curse of dimensionality also describes the phenomenon where the feature space becomes increasingly sparse for an increasing number of dimensions of a fixed-size training dataset.'"
      ]
     },
     "execution_count": 6,
     "metadata": {},
     "output_type": "execute_result"
    }
   ],
   "source": [
    "\"KNN is very susceptible to overfitting due to the curse of dimensionality. Curse of dimensionality also describes the phenomenon where the feature space becomes increasingly sparse for an increasing number of dimensions of a fixed-size training dataset.\""
   ]
  },
  {
   "cell_type": "code",
   "execution_count": 7,
   "id": "dbdd6c2d-4a35-47d1-8b47-b0ca10022ac8",
   "metadata": {},
   "outputs": [
    {
     "data": {
      "text/plain": [
       "'higther value of k is lesser chance of error rate'"
      ]
     },
     "execution_count": 7,
     "metadata": {},
     "output_type": "execute_result"
    }
   ],
   "source": [
    "\"higther value of k is lesser chance of error rate\""
   ]
  },
  {
   "cell_type": "code",
   "execution_count": 8,
   "id": "f93a4c00-06cd-44db-81fb-135731ae797d",
   "metadata": {},
   "outputs": [
    {
     "data": {
      "text/plain": [
       "'Compare and contrast the performance of the KNN classifier and regressor. Which one is better for which type of problem? is KNN regressor type'"
      ]
     },
     "execution_count": 8,
     "metadata": {},
     "output_type": "execute_result"
    }
   ],
   "source": [
    "\"Compare and contrast the performance of the KNN classifier and regressor. Which one is better for which type of problem? is KNN regressor type\""
   ]
  },
  {
   "cell_type": "code",
   "execution_count": 9,
   "id": "42d2d8c6-aa55-419f-aedd-b5d135ee9153",
   "metadata": {},
   "outputs": [
    {
     "data": {
      "text/plain": [
       "'Euclidean distance is the shortest path between source and destination which is a straight line   but Manhattan distance is sum of all the real distances between source and destination and each distance are always the straight lines '"
      ]
     },
     "execution_count": 9,
     "metadata": {},
     "output_type": "execute_result"
    }
   ],
   "source": [
    "\"Euclidean distance is the shortest path between source and destination which is a straight line   but Manhattan distance is sum of all the real distances between source and destination and each distance are always the straight lines \""
   ]
  },
  {
   "cell_type": "code",
   "execution_count": null,
   "id": "4c8a4314-e595-4ca1-84a6-1daf78b35a3d",
   "metadata": {},
   "outputs": [],
   "source": []
  }
 ],
 "metadata": {
  "kernelspec": {
   "display_name": "Python 3 (ipykernel)",
   "language": "python",
   "name": "python3"
  },
  "language_info": {
   "codemirror_mode": {
    "name": "ipython",
    "version": 3
   },
   "file_extension": ".py",
   "mimetype": "text/x-python",
   "name": "python",
   "nbconvert_exporter": "python",
   "pygments_lexer": "ipython3",
   "version": "3.10.8"
  }
 },
 "nbformat": 4,
 "nbformat_minor": 5
}
