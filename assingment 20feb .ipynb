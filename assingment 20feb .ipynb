{
 "cells": [
  {
   "cell_type": "code",
   "execution_count": 1,
   "id": "83d478e6-8fb3-4d45-b988-57a1ecf88d01",
   "metadata": {},
   "outputs": [
    {
     "data": {
      "text/plain": [
       "'get method :  is used to retreive data from a server at the specified resource , get wala method url k data k liye beja jata h , is wale methhod me ye visible to all hota , no secure ,   '"
      ]
     },
     "execution_count": 1,
     "metadata": {},
     "output_type": "execute_result"
    }
   ],
   "source": [
    "\"get method :  is used to retreive data from a server at the specified resource , get wala method url k data k liye beja jata h , is wale methhod me ye visible to all hota , no secure ,   \""
   ]
  },
  {
   "cell_type": "code",
   "execution_count": 2,
   "id": "0e765235-f9a1-4786-8943-c79bb6459cf0",
   "metadata": {},
   "outputs": [
    {
     "data": {
      "text/plain": [
       "' post method : used to send data to a server via API , is wale method me data body a through jata h , more secure than  get ,not visile to any one , like gmail,google account'"
      ]
     },
     "execution_count": 2,
     "metadata": {},
     "output_type": "execute_result"
    }
   ],
   "source": [
    "\" post method : used to send data to a server via API , is wale method me data body a through jata h , more secure than  get ,not visile to any one , like gmail,google account\""
   ]
  },
  {
   "cell_type": "code",
   "execution_count": 3,
   "id": "48a6cabe-a025-46b0-a2fd-7f736750a0e4",
   "metadata": {},
   "outputs": [
    {
     "data": {
      "text/plain": [
       "'request used in the flsk : is an object that contains all the data sent from the Client to Server. This data can be recovered using the GET/POST Methods'"
      ]
     },
     "execution_count": 3,
     "metadata": {},
     "output_type": "execute_result"
    }
   ],
   "source": [
    "\"request used in the flsk : is an object that contains all the data sent from the Client to Server. This data can be recovered using the GET/POST Methods\""
   ]
  },
  {
   "cell_type": "code",
   "execution_count": 4,
   "id": "3ea90056-1638-4ebf-97f1-e5c786b1ab62",
   "metadata": {},
   "outputs": [
    {
     "data": {
      "text/plain": [
       "'templates are define as: Templates are files that contain static data as well as placeholders for dynamic data. A template is rendered with specific data to produce a final document'"
      ]
     },
     "execution_count": 4,
     "metadata": {},
     "output_type": "execute_result"
    }
   ],
   "source": [
    "\"templates are define as: Templates are files that contain static data as well as placeholders for dynamic data. A template is rendered with specific data to produce a final document\""
   ]
  },
  {
   "cell_type": "code",
   "execution_count": null,
   "id": "644bbe9b-2da3-47b7-869a-32a68e8fe075",
   "metadata": {},
   "outputs": [],
   "source": [
    "\"render_template are used :\""
   ]
  }
 ],
 "metadata": {
  "kernelspec": {
   "display_name": "Python 3 (ipykernel)",
   "language": "python",
   "name": "python3"
  },
  "language_info": {
   "codemirror_mode": {
    "name": "ipython",
    "version": 3
   },
   "file_extension": ".py",
   "mimetype": "text/x-python",
   "name": "python",
   "nbconvert_exporter": "python",
   "pygments_lexer": "ipython3",
   "version": "3.10.8"
  }
 },
 "nbformat": 4,
 "nbformat_minor": 5
}
