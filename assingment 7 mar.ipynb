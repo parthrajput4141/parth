{
 "cells": [
  {
   "cell_type": "code",
   "execution_count": 1,
   "id": "12de813a-3b97-42d5-b57d-ef096e5851d2",
   "metadata": {},
   "outputs": [
    {
     "data": {
      "text/plain": [
       "' the three measures of central tendency are mean , median ,mode '"
      ]
     },
     "execution_count": 1,
     "metadata": {},
     "output_type": "execute_result"
    }
   ],
   "source": [
    "\" the three measures of central tendency are mean , median ,mode \""
   ]
  },
  {
   "cell_type": "code",
   "execution_count": 2,
   "id": "a473b15e-69ac-47e7-8d39-2e0b9ef02385",
   "metadata": {},
   "outputs": [
    {
     "data": {
      "text/plain": [
       "'mean : average of the data formula : submission of all no. in the data set divisbile by no. in the data set  '"
      ]
     },
     "execution_count": 2,
     "metadata": {},
     "output_type": "execute_result"
    }
   ],
   "source": [
    "\"mean : average of the data formula : submission of all no. in the data set divisbile by no. in the data set  \""
   ]
  },
  {
   "cell_type": "code",
   "execution_count": 3,
   "id": "e192f783-a65b-4900-84bb-863494642a92",
   "metadata": {},
   "outputs": [
    {
     "data": {
      "text/plain": [
       "' median : used to find the central tendancy when the outlier is present  '"
      ]
     },
     "execution_count": 3,
     "metadata": {},
     "output_type": "execute_result"
    }
   ],
   "source": [
    "\" median : used to find the central tendancy when the outlier is present  \""
   ]
  },
  {
   "cell_type": "code",
   "execution_count": 4,
   "id": "3f6eaf38-7cb8-4150-b3c8-eef91a24ed23",
   "metadata": {},
   "outputs": [
    {
     "data": {
      "text/plain": [
       "'mode: most frequency no. present in the data set'"
      ]
     },
     "execution_count": 4,
     "metadata": {},
     "output_type": "execute_result"
    }
   ],
   "source": [
    "\"mode: most frequency no. present in the data set\"  "
   ]
  },
  {
   "cell_type": "code",
   "execution_count": 6,
   "id": "15e88141-6825-4c6e-b49f-e3431a1a28db",
   "metadata": {},
   "outputs": [],
   "source": [
    "import numpy as np\n",
    "data =[178,177,176,177,178.2,178,175,179,180,175,178.9,176.2,177,172.5,178,176.5]\n"
   ]
  },
  {
   "cell_type": "code",
   "execution_count": 7,
   "id": "4bc0a735-11b7-4ef6-b9e5-ff4366c064de",
   "metadata": {},
   "outputs": [
    {
     "data": {
      "text/plain": [
       "177.01875"
      ]
     },
     "execution_count": 7,
     "metadata": {},
     "output_type": "execute_result"
    }
   ],
   "source": [
    "np.mean(data)"
   ]
  },
  {
   "cell_type": "code",
   "execution_count": 8,
   "id": "10704f00-3338-4846-af37-21ff9ad7a813",
   "metadata": {},
   "outputs": [
    {
     "data": {
      "text/plain": [
       "177.0"
      ]
     },
     "execution_count": 8,
     "metadata": {},
     "output_type": "execute_result"
    }
   ],
   "source": [
    "np.median(data)"
   ]
  },
  {
   "cell_type": "code",
   "execution_count": 10,
   "id": "a65617a1-c379-456a-9ed6-eee4922a7c1e",
   "metadata": {},
   "outputs": [],
   "source": [
    "from scipy import stats "
   ]
  },
  {
   "cell_type": "code",
   "execution_count": 11,
   "id": "f754f74e-f348-49d6-81fe-f159ef87fc3a",
   "metadata": {},
   "outputs": [
    {
     "name": "stderr",
     "output_type": "stream",
     "text": [
      "/tmp/ipykernel_1188/3267261142.py:1: FutureWarning: Unlike other reduction functions (e.g. `skew`, `kurtosis`), the default behavior of `mode` typically preserves the axis it acts along. In SciPy 1.11.0, this behavior will change: the default value of `keepdims` will become False, the `axis` over which the statistic is taken will be eliminated, and the value None will no longer be accepted. Set `keepdims` to True or False to avoid this warning.\n",
      "  stats.mode(data)\n"
     ]
    },
    {
     "data": {
      "text/plain": [
       "ModeResult(mode=array([177.]), count=array([3]))"
      ]
     },
     "execution_count": 11,
     "metadata": {},
     "output_type": "execute_result"
    }
   ],
   "source": [
    "stats.mode(data)"
   ]
  },
  {
   "cell_type": "code",
   "execution_count": 12,
   "id": "d89c10ad-ed2e-445b-9b14-b8c4cd007b82",
   "metadata": {},
   "outputs": [],
   "source": [
    "import numpy as np \n",
    "data1=[178,177,176,177,178.2,178,175,179,180,175,178.9,176.2,177,172.5,178,176.5]"
   ]
  },
  {
   "cell_type": "code",
   "execution_count": 13,
   "id": "c7dedec2-c6c4-45be-bb07-3bb44a3efb26",
   "metadata": {},
   "outputs": [
    {
     "data": {
      "text/plain": [
       "1.7885814036548633"
      ]
     },
     "execution_count": 13,
     "metadata": {},
     "output_type": "execute_result"
    }
   ],
   "source": [
    "np.std(data1)"
   ]
  },
  {
   "cell_type": "code",
   "execution_count": 15,
   "id": "62e0f516-9dcb-421e-99da-28dbc221c30b",
   "metadata": {},
   "outputs": [
    {
     "data": {
      "text/plain": [
       "'a diagram representing mathematical or logical sets pictorially as circles or closed curves within an enclosing rectangle (the universal set), common elements of the sets being represented by intersections of the circles.'"
      ]
     },
     "execution_count": 15,
     "metadata": {},
     "output_type": "execute_result"
    }
   ],
   "source": [
    "\"a diagram representing mathematical or logical sets pictorially as circles or closed curves within an enclosing rectangle (the universal set), common elements of the sets being represented by intersections of the circles.\""
   ]
  },
  {
   "cell_type": "code",
   "execution_count": 16,
   "id": "81ff2148-e4a4-4be9-9dca-87051abb8825",
   "metadata": {},
   "outputs": [],
   "source": [
    "a=(2,3,4,5,6,7)\n",
    "b=(0,2,6,8,10)"
   ]
  },
  {
   "cell_type": "code",
   "execution_count": 17,
   "id": "02533abd-8b62-43b0-ae6a-35e2d78f953d",
   "metadata": {},
   "outputs": [
    {
     "data": {
      "text/plain": [
       "'intersection of a and b is 2,6 '"
      ]
     },
     "execution_count": 17,
     "metadata": {},
     "output_type": "execute_result"
    }
   ],
   "source": [
    "\"intersection of a and b is 2,6 \""
   ]
  },
  {
   "cell_type": "code",
   "execution_count": 18,
   "id": "5a0537e8-01b9-4da4-874d-c29677bd18e8",
   "metadata": {},
   "outputs": [
    {
     "data": {
      "text/plain": [
       "'union of a and b is (0,2,3,4,5,6,7,8,10)'"
      ]
     },
     "execution_count": 18,
     "metadata": {},
     "output_type": "execute_result"
    }
   ],
   "source": [
    "\"union of a and b is (0,2,3,4,5,6,7,8,10)\""
   ]
  },
  {
   "cell_type": "code",
   "execution_count": 19,
   "id": "ae5f821a-1ae1-4776-ae26-7de245eed2f6",
   "metadata": {},
   "outputs": [
    {
     "data": {
      "text/plain": [
       "'Skewness is a statistical measure that is used to show whether a distribution is distorted or asymmetrical'"
      ]
     },
     "execution_count": 19,
     "metadata": {},
     "output_type": "execute_result"
    }
   ],
   "source": [
    "\"Skewness is a statistical measure that is used to show whether a distribution is distorted or asymmetrical\""
   ]
  },
  {
   "cell_type": "code",
   "execution_count": 20,
   "id": "575e7bcc-218e-44a5-955d-8ecb428a8d3e",
   "metadata": {},
   "outputs": [
    {
     "data": {
      "text/plain": [
       "'Covariance indicates the direction of the linear relationship between variables while correlation measures both the strength and direction of the linear relationship between two variables. Correlation is a function of the covariance.'"
      ]
     },
     "execution_count": 20,
     "metadata": {},
     "output_type": "execute_result"
    }
   ],
   "source": [
    "\"Covariance indicates the direction of the linear relationship between variables while correlation measures both the strength and direction of the linear relationship between two variables. Correlation is a function of the covariance.\""
   ]
  },
  {
   "cell_type": "code",
   "execution_count": null,
   "id": "00e19af2-a0db-4b8d-807a-c37a6131ddc1",
   "metadata": {},
   "outputs": [],
   "source": []
  }
 ],
 "metadata": {
  "kernelspec": {
   "display_name": "Python 3 (ipykernel)",
   "language": "python",
   "name": "python3"
  },
  "language_info": {
   "codemirror_mode": {
    "name": "ipython",
    "version": 3
   },
   "file_extension": ".py",
   "mimetype": "text/x-python",
   "name": "python",
   "nbconvert_exporter": "python",
   "pygments_lexer": "ipython3",
   "version": "3.10.8"
  }
 },
 "nbformat": 4,
 "nbformat_minor": 5
}
