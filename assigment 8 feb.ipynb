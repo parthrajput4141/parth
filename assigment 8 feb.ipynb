{
 "cells": [
  {
   "cell_type": "code",
   "execution_count": 1,
   "id": "c7a466da-472e-41be-818b-6b1f27ca72ed",
   "metadata": {},
   "outputs": [
    {
     "data": {
      "text/plain": [
       "'abstrsvtion jo h harmara bule print or skelton banane k liye use me aata h , abstrion is th process of hiniding the data from the entrie world or field'"
      ]
     },
     "execution_count": 1,
     "metadata": {},
     "output_type": "execute_result"
    }
   ],
   "source": [
    "\"abstrsvtion jo h harmara bule print or skelton banane k liye use me aata h , abstrion is th process of hiniding the data from the entrie world or field\""
   ]
  },
  {
   "cell_type": "code",
   "execution_count": 2,
   "id": "1aa1e4ea-0b6b-426c-b17c-be8112a0e80d",
   "metadata": {},
   "outputs": [],
   "source": [
    "import abc\n",
    "class pwskills:\n",
    "    @abc.abstractmethod\n",
    "    def student_name(self):\n",
    "        pass\n",
    "    @abc.abstractmethod\n",
    "    def student_details(self):\n",
    "        pass\n",
    "    @abc.abstractmethod\n",
    "    def student_result(self):\n",
    "        pass\n",
    "        "
   ]
  },
  {
   "cell_type": "code",
   "execution_count": 3,
   "id": "59cb0fd7-6639-463b-8949-53aaef923968",
   "metadata": {},
   "outputs": [],
   "source": [
    "class batch(pwskills):\n",
    "    def student_name(self):\n",
    "        print(\"parth\")\n",
    "    def student_result(self):\n",
    "        print(\"good\")"
   ]
  },
  {
   "cell_type": "code",
   "execution_count": 4,
   "id": "96c17169-f926-422f-b204-38f88156c453",
   "metadata": {},
   "outputs": [],
   "source": [
    "bt=batch()"
   ]
  },
  {
   "cell_type": "code",
   "execution_count": 5,
   "id": "12689302-b0fe-4805-80e4-f3811dbe3f76",
   "metadata": {},
   "outputs": [
    {
     "name": "stdout",
     "output_type": "stream",
     "text": [
      "parth\n"
     ]
    }
   ],
   "source": [
    "bt.student_name()"
   ]
  },
  {
   "cell_type": "code",
   "execution_count": 6,
   "id": "b338659b-c588-4da9-99a6-8b0193145e49",
   "metadata": {},
   "outputs": [
    {
     "data": {
      "text/plain": [
       "'abc module full  form is abstract base classes . it is used  for making method of the base class as abstract '"
      ]
     },
     "execution_count": 6,
     "metadata": {},
     "output_type": "execute_result"
    }
   ],
   "source": [
    "\"abc module full  form is abstract base classes . it is used  for making method of the base class as abstract \""
   ]
  },
  {
   "cell_type": "code",
   "execution_count": null,
   "id": "6db1b2ed-dc3f-4a90-ae93-436e83c55ef9",
   "metadata": {},
   "outputs": [],
   "source": [
    "\" no we can not make instance for the abstract class becasue we inherit the abstract class \""
   ]
  }
 ],
 "metadata": {
  "kernelspec": {
   "display_name": "Python 3 (ipykernel)",
   "language": "python",
   "name": "python3"
  },
  "language_info": {
   "codemirror_mode": {
    "name": "ipython",
    "version": 3
   },
   "file_extension": ".py",
   "mimetype": "text/x-python",
   "name": "python",
   "nbconvert_exporter": "python",
   "pygments_lexer": "ipython3",
   "version": "3.10.8"
  }
 },
 "nbformat": 4,
 "nbformat_minor": 5
}
