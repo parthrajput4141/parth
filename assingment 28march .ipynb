{
 "cells": [
  {
   "cell_type": "code",
   "execution_count": 2,
   "id": "8dc75fb0-e5f8-4533-b63f-b89578e054d3",
   "metadata": {},
   "outputs": [
    {
     "data": {
      "text/plain": [
       "' Ridge regresion : it is the method used for the analyzie of multicollineraty in multiple regression. it is also known as l2 regulerlization'"
      ]
     },
     "execution_count": 2,
     "metadata": {},
     "output_type": "execute_result"
    }
   ],
   "source": [
    "\" Ridge regresion : it is the method used for the analyzie of multicollineraty in multiple regression. it is also known as l2 regulerlization\""
   ]
  },
  {
   "cell_type": "code",
   "execution_count": 3,
   "id": "a581c2fc-a992-4c6e-95c8-4274cd92bb3c",
   "metadata": {},
   "outputs": [
    {
     "data": {
      "text/plain": [
       "' the assumptions of Ridge Regression are : constant varince (no outlier), linearty and independence '"
      ]
     },
     "execution_count": 3,
     "metadata": {},
     "output_type": "execute_result"
    }
   ],
   "source": [
    "\" the assumptions of Ridge Regression are : constant varince (no outlier), linearty and independence \""
   ]
  },
  {
   "cell_type": "code",
   "execution_count": 4,
   "id": "0b5d151e-6448-414d-b185-b552da676cad",
   "metadata": {},
   "outputs": [
    {
     "data": {
      "text/plain": [
       "'Can Ridge Regression be used for feature selection :  (no) because : all features are included in the model, but their impact is minimized '"
      ]
     },
     "execution_count": 4,
     "metadata": {},
     "output_type": "execute_result"
    }
   ],
   "source": [
    "\"Can Ridge Regression be used for feature selection :  (no) because : all features are included in the model, but their impact is minimized \""
   ]
  },
  {
   "cell_type": "code",
   "execution_count": 5,
   "id": "6f26e51b-d0b9-4b7e-9fa5-2d47c8b851c8",
   "metadata": {},
   "outputs": [
    {
     "data": {
      "text/plain": [
       "' in the Ridge Regression model perform in the presence of multicollinearity? is very bad performnace because error is very hing . in this type of model our model is trainig is good but in test it does not work well'"
      ]
     },
     "execution_count": 5,
     "metadata": {},
     "output_type": "execute_result"
    }
   ],
   "source": [
    "\" in the Ridge Regression model perform in the presence of multicollinearity? is very bad performnace because error is very hing . in this type of model our model is trainig is good but in test it does not work well\""
   ]
  },
  {
   "cell_type": "code",
   "execution_count": 6,
   "id": "345b6f6c-aa85-4263-9057-c69c528d32cb",
   "metadata": {},
   "outputs": [
    {
     "data": {
      "text/plain": [
       "' (yes) : Ridge Regression handle both categorical and continuous independent variables? '"
      ]
     },
     "execution_count": 6,
     "metadata": {},
     "output_type": "execute_result"
    }
   ],
   "source": [
    "\" (yes) : Ridge Regression handle both categorical and continuous independent variables? \""
   ]
  },
  {
   "cell_type": "code",
   "execution_count": 7,
   "id": "47b791f7-ccae-481d-be35-d1d30090c8c3",
   "metadata": {},
   "outputs": [
    {
     "data": {
      "text/plain": [
       "'Coefficients can be shrunk to exactly zero, effectively eliminating some variables in the ridge regression'"
      ]
     },
     "execution_count": 7,
     "metadata": {},
     "output_type": "execute_result"
    }
   ],
   "source": [
    "\"Coefficients can be shrunk to exactly zero, effectively eliminating some variables in the ridge regression\""
   ]
  },
  {
   "cell_type": "code",
   "execution_count": null,
   "id": "c2d64c6c-9073-41f7-8265-eff90207ffd0",
   "metadata": {},
   "outputs": [],
   "source": []
  }
 ],
 "metadata": {
  "kernelspec": {
   "display_name": "Python 3 (ipykernel)",
   "language": "python",
   "name": "python3"
  },
  "language_info": {
   "codemirror_mode": {
    "name": "ipython",
    "version": 3
   },
   "file_extension": ".py",
   "mimetype": "text/x-python",
   "name": "python",
   "nbconvert_exporter": "python",
   "pygments_lexer": "ipython3",
   "version": "3.10.8"
  }
 },
 "nbformat": 4,
 "nbformat_minor": 5
}
