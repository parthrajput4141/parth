{
 "cells": [
  {
   "cell_type": "code",
   "execution_count": 1,
   "id": "bd3df8d6-f593-4aff-9f09-0d9f879c44ae",
   "metadata": {},
   "outputs": [],
   "source": [
    "a=[1,2,3,4,5,6,7,8,9,10]"
   ]
  },
  {
   "cell_type": "code",
   "execution_count": 2,
   "id": "48068c4c-6f65-404d-bb13-a49765d61ffd",
   "metadata": {},
   "outputs": [],
   "source": [
    "def sq(a):\n",
    "    return a**2"
   ]
  },
  {
   "cell_type": "code",
   "execution_count": 3,
   "id": "4c2c79dd-6729-4d8b-a634-83b568cd2f4f",
   "metadata": {},
   "outputs": [
    {
     "data": {
      "text/plain": [
       "<map at 0x7f38d200a3b0>"
      ]
     },
     "execution_count": 3,
     "metadata": {},
     "output_type": "execute_result"
    }
   ],
   "source": [
    "map(sq,a)"
   ]
  },
  {
   "cell_type": "code",
   "execution_count": 4,
   "id": "51a21f79-d0a7-4364-af74-33ffb6a438fe",
   "metadata": {},
   "outputs": [
    {
     "data": {
      "text/plain": [
       "[1, 4, 9, 16, 25, 36, 49, 64, 81, 100]"
      ]
     },
     "execution_count": 4,
     "metadata": {},
     "output_type": "execute_result"
    }
   ],
   "source": [
    "list(map(sq,a))"
   ]
  },
  {
   "cell_type": "code",
   "execution_count": 5,
   "id": "f2338a59-f14b-4167-afb2-6b2954f8c8b2",
   "metadata": {},
   "outputs": [],
   "source": [
    "x=lambda x:a**2"
   ]
  },
  {
   "cell_type": "code",
   "execution_count": 7,
   "id": "2637df40-b980-4f02-a34d-11544f10ebd0",
   "metadata": {},
   "outputs": [
    {
     "data": {
      "text/plain": [
       "[1, 4, 9, 16, 25, 36, 49, 64, 81, 100]"
      ]
     },
     "execution_count": 7,
     "metadata": {},
     "output_type": "execute_result"
    }
   ],
   "source": [
    "list(map(lambda x:x**2,a))"
   ]
  },
  {
   "cell_type": "code",
   "execution_count": 10,
   "id": "5386b2a5-f7a2-44fe-88df-6aa031e4fa21",
   "metadata": {},
   "outputs": [],
   "source": [
    "b=[1,2,3,4,5,6,7,8,9,10]"
   ]
  },
  {
   "cell_type": "code",
   "execution_count": 11,
   "id": "7eade8ee-707e-4834-b60c-f12bf76d994e",
   "metadata": {},
   "outputs": [
    {
     "data": {
      "text/plain": [
       "list"
      ]
     },
     "execution_count": 11,
     "metadata": {},
     "output_type": "execute_result"
    }
   ],
   "source": [
    "type(b)"
   ]
  },
  {
   "cell_type": "code",
   "execution_count": 14,
   "id": "00c68070-8605-453d-a784-d759eaa4fee4",
   "metadata": {},
   "outputs": [
    {
     "ename": "SyntaxError",
     "evalue": "invalid syntax (753560988.py, line 2)",
     "output_type": "error",
     "traceback": [
      "\u001b[0;36m  Cell \u001b[0;32mIn[14], line 2\u001b[0;36m\u001b[0m\n\u001b[0;31m    return type(b)=tuple(b)\u001b[0m\n\u001b[0m                  ^\u001b[0m\n\u001b[0;31mSyntaxError\u001b[0m\u001b[0;31m:\u001b[0m invalid syntax\n"
     ]
    }
   ],
   "source": [
    "def test(b):\n",
    "    return type(b)=tuple(b)"
   ]
  },
  {
   "cell_type": "code",
   "execution_count": 17,
   "id": "45f85370-33ab-4dd2-8e88-b9acb6c8e321",
   "metadata": {},
   "outputs": [],
   "source": [
    "from functools import reduce"
   ]
  },
  {
   "cell_type": "code",
   "execution_count": 15,
   "id": "d636378f-6cf6-4014-8ed9-ebef8e6ae628",
   "metadata": {},
   "outputs": [],
   "source": [
    "c=[1,2,3,4,5,6,7,8,9,10,11,12,13,14,15,16,17,18,19,20,21,22,23,24,25]"
   ]
  },
  {
   "cell_type": "code",
   "execution_count": 18,
   "id": "35791ed4-8e26-4a65-8469-6f14463594e9",
   "metadata": {},
   "outputs": [
    {
     "data": {
      "text/plain": [
       "15511210043330985984000000"
      ]
     },
     "execution_count": 18,
     "metadata": {},
     "output_type": "execute_result"
    }
   ],
   "source": [
    "reduce(lambda x,y: x*y,c)"
   ]
  },
  {
   "cell_type": "code",
   "execution_count": 19,
   "id": "f4b8f46a-13f4-455d-a875-96041d4a1f3f",
   "metadata": {},
   "outputs": [],
   "source": [
    "d=[2, 3, 6, 9, 27, 60, 90, 120, 55, 46]"
   ]
  },
  {
   "cell_type": "code",
   "execution_count": 23,
   "id": "84417cd2-2f19-4fcc-8b52-e0fbaff201a3",
   "metadata": {},
   "outputs": [
    {
     "data": {
      "text/plain": [
       "[2, 6, 60, 90, 120, 46]"
      ]
     },
     "execution_count": 23,
     "metadata": {},
     "output_type": "execute_result"
    }
   ],
   "source": [
    "list(filter(lambda x: x%2==0,d))"
   ]
  },
  {
   "cell_type": "code",
   "execution_count": 24,
   "id": "e1ee70eb-d1a1-4c1b-afe3-a00fa8510f38",
   "metadata": {},
   "outputs": [
    {
     "data": {
      "text/plain": [
       "[3, 9, 27, 55]"
      ]
     },
     "execution_count": 24,
     "metadata": {},
     "output_type": "execute_result"
    }
   ],
   "source": [
    "list(filter(lambda x:x%2!=0,d))"
   ]
  },
  {
   "cell_type": "code",
   "execution_count": 25,
   "id": "19448a12-8c4f-47a2-85d1-b217d24f891e",
   "metadata": {},
   "outputs": [
    {
     "data": {
      "text/plain": [
       "[3, 6, 9, 27, 60, 90, 120]"
      ]
     },
     "execution_count": 25,
     "metadata": {},
     "output_type": "execute_result"
    }
   ],
   "source": [
    "list(filter(lambda x:x%3==0,d))"
   ]
  },
  {
   "cell_type": "code",
   "execution_count": 26,
   "id": "c23ae740-cece-4727-a83c-0ac18375dd3e",
   "metadata": {},
   "outputs": [],
   "source": [
    "e=['python', 'php', 'aba', 'radar', 'level']"
   ]
  },
  {
   "cell_type": "code",
   "execution_count": 28,
   "id": "f2af0b9a-4e64-41b5-99a4-a71a83668615",
   "metadata": {},
   "outputs": [
    {
     "ename": "NameError",
     "evalue": "name 'isplaindrome' is not defined",
     "output_type": "error",
     "traceback": [
      "\u001b[0;31m---------------------------------------------------------------------------\u001b[0m",
      "\u001b[0;31mNameError\u001b[0m                                 Traceback (most recent call last)",
      "Cell \u001b[0;32mIn[28], line 1\u001b[0m\n\u001b[0;32m----> 1\u001b[0m \u001b[38;5;28;43mlist\u001b[39;49m\u001b[43m(\u001b[49m\u001b[38;5;28;43mfilter\u001b[39;49m\u001b[43m(\u001b[49m\u001b[38;5;28;43;01mlambda\u001b[39;49;00m\u001b[43m \u001b[49m\u001b[43mx\u001b[49m\u001b[43m:\u001b[49m\u001b[43m \u001b[49m\u001b[43misplaindrome\u001b[49m\u001b[43m,\u001b[49m\u001b[43me\u001b[49m\u001b[43m)\u001b[49m\u001b[43m)\u001b[49m\n",
      "Cell \u001b[0;32mIn[28], line 1\u001b[0m, in \u001b[0;36m<lambda>\u001b[0;34m(x)\u001b[0m\n\u001b[0;32m----> 1\u001b[0m \u001b[38;5;28mlist\u001b[39m(\u001b[38;5;28mfilter\u001b[39m(\u001b[38;5;28;01mlambda\u001b[39;00m x: \u001b[43misplaindrome\u001b[49m,e))\n",
      "\u001b[0;31mNameError\u001b[0m: name 'isplaindrome' is not defined"
     ]
    }
   ],
   "source": [
    "list(filter(lambda x: isplaindrome,e))"
   ]
  },
  {
   "cell_type": "code",
   "execution_count": 29,
   "id": "b5f86d05-d0bb-4c6d-831c-880487ab379b",
   "metadata": {},
   "outputs": [],
   "source": [
    "# function which return reverse"
   ]
  },
  {
   "cell_type": "code",
   "execution_count": 35,
   "id": "9d369b21-a91d-4924-83a0-4b80835b0822",
   "metadata": {},
   "outputs": [],
   "source": [
    "def test(s):\n",
    "    return s==s[::-1]"
   ]
  },
  {
   "cell_type": "code",
   "execution_count": 37,
   "id": "53e40c2f-c6d1-4f4a-9b2f-3a8ac65d266e",
   "metadata": {},
   "outputs": [
    {
     "data": {
      "text/plain": [
       "False"
      ]
     },
     "execution_count": 37,
     "metadata": {},
     "output_type": "execute_result"
    }
   ],
   "source": [
    "test(\"python\")"
   ]
  },
  {
   "cell_type": "code",
   "execution_count": 32,
   "id": "07804d6b-71ec-4d7c-9eda-9662f28ffd07",
   "metadata": {},
   "outputs": [
    {
     "data": {
      "text/plain": [
       "True"
      ]
     },
     "execution_count": 32,
     "metadata": {},
     "output_type": "execute_result"
    }
   ],
   "source": [
    "test(\"php\")"
   ]
  },
  {
   "cell_type": "code",
   "execution_count": 38,
   "id": "6cc16c11-d8c3-4e02-a5e3-fd36022aa40b",
   "metadata": {},
   "outputs": [
    {
     "ename": "NameError",
     "evalue": "name 's' is not defined",
     "output_type": "error",
     "traceback": [
      "\u001b[0;31m---------------------------------------------------------------------------\u001b[0m",
      "\u001b[0;31mNameError\u001b[0m                                 Traceback (most recent call last)",
      "Cell \u001b[0;32mIn[38], line 1\u001b[0m\n\u001b[0;32m----> 1\u001b[0m \u001b[38;5;28mlist\u001b[39m(\u001b[38;5;28mfilter\u001b[39m( test(\u001b[43ms\u001b[49m),e))\n",
      "\u001b[0;31mNameError\u001b[0m: name 's' is not defined"
     ]
    }
   ],
   "source": [
    "list(filter( test(s),e))"
   ]
  },
  {
   "cell_type": "code",
   "execution_count": 39,
   "id": "5527d7e5-a9b9-4c8f-b428-4fdd18fa49f1",
   "metadata": {},
   "outputs": [
    {
     "ename": "SyntaxError",
     "evalue": "invalid syntax (4035918207.py, line 1)",
     "output_type": "error",
     "traceback": [
      "\u001b[0;36m  Cell \u001b[0;32mIn[39], line 1\u001b[0;36m\u001b[0m\n\u001b[0;31m    list(filter(def test(s):\u001b[0m\n\u001b[0m                ^\u001b[0m\n\u001b[0;31mSyntaxError\u001b[0m\u001b[0;31m:\u001b[0m invalid syntax\n"
     ]
    }
   ],
   "source": [
    "list(filter(def test(s):\n",
    "    return s==s[::-1],e))"
   ]
  },
  {
   "cell_type": "code",
   "execution_count": null,
   "id": "087847e5-350e-4a44-be76-ff1beb9664e5",
   "metadata": {},
   "outputs": [],
   "source": []
  }
 ],
 "metadata": {
  "kernelspec": {
   "display_name": "Python 3 (ipykernel)",
   "language": "python",
   "name": "python3"
  },
  "language_info": {
   "codemirror_mode": {
    "name": "ipython",
    "version": 3
   },
   "file_extension": ".py",
   "mimetype": "text/x-python",
   "name": "python",
   "nbconvert_exporter": "python",
   "pygments_lexer": "ipython3",
   "version": "3.10.8"
  }
 },
 "nbformat": 4,
 "nbformat_minor": 5
}
