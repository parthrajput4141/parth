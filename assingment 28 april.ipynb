{
 "cells": [
  {
   "cell_type": "code",
   "execution_count": 1,
   "id": "9ebdf4dc-fecd-471e-bd3d-a2cb39c98058",
   "metadata": {},
   "outputs": [
    {
     "data": {
      "text/plain": [
       "'Hierarchical clustering is a method of cluster analysis in data mining that creates a hierarchical representation of the clusters in a dataset.'"
      ]
     },
     "execution_count": 1,
     "metadata": {},
     "output_type": "execute_result"
    }
   ],
   "source": [
    "\"Hierarchical clustering is a method of cluster analysis in data mining that creates a hierarchical representation of the clusters in a dataset.\""
   ]
  },
  {
   "cell_type": "code",
   "execution_count": 2,
   "id": "67984ff8-774b-483b-9aef-eac28f81f50c",
   "metadata": {},
   "outputs": [
    {
     "data": {
      "text/plain": [
       "'Hierarchical clusting is use for samll dataset and it is use full for the varity of type of data '"
      ]
     },
     "execution_count": 2,
     "metadata": {},
     "output_type": "execute_result"
    }
   ],
   "source": [
    "\"Hierarchical clusting is use for samll dataset and it is use full for the varity of type of data \""
   ]
  },
  {
   "cell_type": "code",
   "execution_count": 3,
   "id": "ee6e1570-52bf-4048-a2f8-88133fabf3a1",
   "metadata": {},
   "outputs": [
    {
     "data": {
      "text/plain": [
       "'their are two type of hierarchical clustring : 1) agglomerative clustring and 2) divisisve clustring '"
      ]
     },
     "execution_count": 3,
     "metadata": {},
     "output_type": "execute_result"
    }
   ],
   "source": [
    "\"their are two type of hierarchical clustring : 1) agglomerative clustring and 2) divisisve clustring \""
   ]
  },
  {
   "cell_type": "code",
   "execution_count": 4,
   "id": "8007d7e2-34a2-4605-8229-100a882e88b1",
   "metadata": {},
   "outputs": [
    {
     "data": {
      "text/plain": [
       "'steps for agglometative clustring are step 1 is for each point initially we will consider it as a sperate cluster steps 2 is find the nearset point and create a new cluster step 3 is we keep on doing the same process (step 2) untill we get a single cluster '"
      ]
     },
     "execution_count": 4,
     "metadata": {},
     "output_type": "execute_result"
    }
   ],
   "source": [
    "\"steps for agglometative clustring are step 1 is for each point initially we will consider it as a sperate cluster steps 2 is find the nearset point and create a new cluster step 3 is we keep on doing the same process (step 2) untill we get a single cluster \""
   ]
  },
  {
   "cell_type": "code",
   "execution_count": 5,
   "id": "b63591b8-4736-45ac-92d0-3f888ce0ffb6",
   "metadata": {},
   "outputs": [
    {
     "data": {
      "text/plain": [
       "'divisive clustring is reverse of the agglometative clustring bottoum to top '"
      ]
     },
     "execution_count": 5,
     "metadata": {},
     "output_type": "execute_result"
    }
   ],
   "source": [
    "\"divisive clustring is reverse of the agglometative clustring bottoum to top \""
   ]
  },
  {
   "cell_type": "code",
   "execution_count": 6,
   "id": "51981ed0-704c-46d4-bc1d-d645ad375c1a",
   "metadata": {},
   "outputs": [
    {
     "data": {
      "text/plain": [
       "'in hierarchical clustering we  are the common distance metrics used, is Euclidian distance '"
      ]
     },
     "execution_count": 6,
     "metadata": {},
     "output_type": "execute_result"
    }
   ],
   "source": [
    " \"in hierarchical clustering we  are the common distance metrics used, is Euclidian distance \""
   ]
  },
  {
   "cell_type": "code",
   "execution_count": 7,
   "id": "4d7d6d6c-7fad-42c2-979e-e208ec6ee514",
   "metadata": {},
   "outputs": [
    {
     "data": {
      "text/plain": [
       "'A dendrogram is a diagram that shows the hierarchical relationship between objects, isse hme kitne cluster the woh bhi pata chalta h '"
      ]
     },
     "execution_count": 7,
     "metadata": {},
     "output_type": "execute_result"
    }
   ],
   "source": [
    "\"A dendrogram is a diagram that shows the hierarchical relationship between objects, isse hme kitne cluster the woh bhi pata chalta h \""
   ]
  },
  {
   "cell_type": "code",
   "execution_count": 8,
   "id": "0d60573d-4ead-4ea0-9627-43cfeffbc75c",
   "metadata": {},
   "outputs": [
    {
     "data": {
      "text/plain": [
       "'Can hierarchical clustering be used for both numerical and categorical data yes this algorithum . for numerical dataset  euclidian distance is use and dor categrical dataset Manthaten distance '"
      ]
     },
     "execution_count": 8,
     "metadata": {},
     "output_type": "execute_result"
    }
   ],
   "source": [
    "\"Can hierarchical clustering be used for both numerical and categorical data yes this algorithum . for numerical dataset  euclidian distance is use and dor categrical dataset Manthaten distance \""
   ]
  },
  {
   "cell_type": "code",
   "execution_count": null,
   "id": "c0a462f9-066f-47f7-bb52-dc547fcf2f41",
   "metadata": {},
   "outputs": [],
   "source": []
  }
 ],
 "metadata": {
  "kernelspec": {
   "display_name": "Python 3 (ipykernel)",
   "language": "python",
   "name": "python3"
  },
  "language_info": {
   "codemirror_mode": {
    "name": "ipython",
    "version": 3
   },
   "file_extension": ".py",
   "mimetype": "text/x-python",
   "name": "python",
   "nbconvert_exporter": "python",
   "pygments_lexer": "ipython3",
   "version": "3.10.8"
  }
 },
 "nbformat": 4,
 "nbformat_minor": 5
}
