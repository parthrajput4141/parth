{
 "cells": [
  {
   "cell_type": "code",
   "execution_count": 1,
   "id": "ede62a5a-75c4-4959-a676-5a3da71c1ea7",
   "metadata": {},
   "outputs": [
    {
     "data": {
      "text/plain": [
       "'two method for opeenig a file which is given below:'"
      ]
     },
     "execution_count": 1,
     "metadata": {},
     "output_type": "execute_result"
    }
   ],
   "source": [
    "'two method for opeenig a file which is given below:'"
   ]
  },
  {
   "cell_type": "code",
   "execution_count": 2,
   "id": "a1bab4ba-0424-4e75-8acf-473c434da25f",
   "metadata": {},
   "outputs": [],
   "source": [
    "#first method\n",
    "f=open(\"test.txt\",'w')"
   ]
  },
  {
   "cell_type": "code",
   "execution_count": 4,
   "id": "5e88b190-b4d1-4d8a-bd34-71391b7ccb4a",
   "metadata": {},
   "outputs": [],
   "source": [
    "#second method\n",
    "with open(\"test1\",'w')as t:\n",
    "    f.write(\"my second file\")"
   ]
  },
  {
   "cell_type": "code",
   "execution_count": 5,
   "id": "f34b35ac-404c-4bc7-8e03-aad5b2fa37b3",
   "metadata": {},
   "outputs": [
    {
     "data": {
      "text/plain": [
       "'in th file close function is used dor close the file this fuction is also imporatant because when file is not close and than we see in the file what is write in the file does not'"
      ]
     },
     "execution_count": 5,
     "metadata": {},
     "output_type": "execute_result"
    }
   ],
   "source": [
    "\"in th file close function is used dor close the file this fuction is also imporatant because when file is not close and than we see in the file what is write in the file does not\""
   ]
  },
  {
   "cell_type": "code",
   "execution_count": 6,
   "id": "5eacddf1-db0d-4bde-8504-1d0074b99405",
   "metadata": {},
   "outputs": [],
   "source": [
    "f=open(\"parth.txt\",'w')"
   ]
  },
  {
   "cell_type": "code",
   "execution_count": 21,
   "id": "c2720888-e54f-4a4f-b69f-5e253f751a21",
   "metadata": {},
   "outputs": [
    {
     "ename": "ValueError",
     "evalue": "I/O operation on closed file.",
     "output_type": "error",
     "traceback": [
      "\u001b[0;31m---------------------------------------------------------------------------\u001b[0m",
      "\u001b[0;31mValueError\u001b[0m                                Traceback (most recent call last)",
      "Cell \u001b[0;32mIn[21], line 1\u001b[0m\n\u001b[0;32m----> 1\u001b[0m \u001b[43mf\u001b[49m\u001b[38;5;241;43m.\u001b[39;49m\u001b[43mwrite\u001b[49m\u001b[43m(\u001b[49m\u001b[38;5;124;43m\"\u001b[39;49m\u001b[38;5;124;43mi want to become a data scientist\u001b[39;49m\u001b[38;5;124;43m\"\u001b[39;49m\u001b[43m)\u001b[49m\n",
      "\u001b[0;31mValueError\u001b[0m: I/O operation on closed file."
     ]
    }
   ],
   "source": [
    "f.write(\"i want to become a data scientist\")"
   ]
  },
  {
   "cell_type": "code",
   "execution_count": 22,
   "id": "6a90007d-45ac-4701-9926-68557f1653a7",
   "metadata": {},
   "outputs": [],
   "source": [
    "f=open(\"parth1.txt\",'w')"
   ]
  },
  {
   "cell_type": "code",
   "execution_count": 23,
   "id": "ba1ddcee-b68a-42a5-83de-2ac8f885278c",
   "metadata": {},
   "outputs": [
    {
     "data": {
      "text/plain": [
       "33"
      ]
     },
     "execution_count": 23,
     "metadata": {},
     "output_type": "execute_result"
    }
   ],
   "source": [
    "f.write(\"i want to become a data scientist\")"
   ]
  },
  {
   "cell_type": "code",
   "execution_count": 29,
   "id": "94b7a775-c111-436b-98df-8dc1b711f6bf",
   "metadata": {},
   "outputs": [],
   "source": [
    "f=open(\"parth1.txt\",'r')"
   ]
  },
  {
   "cell_type": "code",
   "execution_count": 25,
   "id": "a45d7032-bff0-43ae-8c63-0c96f1eb7a64",
   "metadata": {},
   "outputs": [
    {
     "data": {
      "text/plain": [
       "''"
      ]
     },
     "execution_count": 25,
     "metadata": {},
     "output_type": "execute_result"
    }
   ],
   "source": [
    "f.read()"
   ]
  },
  {
   "cell_type": "code",
   "execution_count": 30,
   "id": "32999ee7-3b08-47c2-a0e7-30a0fe3b1a95",
   "metadata": {},
   "outputs": [
    {
     "data": {
      "text/plain": [
       "0"
      ]
     },
     "execution_count": 30,
     "metadata": {},
     "output_type": "execute_result"
    }
   ],
   "source": [
    "f.seek(0)"
   ]
  },
  {
   "cell_type": "code",
   "execution_count": 31,
   "id": "3e94d5ba-34ff-4a16-ad80-c4faf7f49214",
   "metadata": {},
   "outputs": [
    {
     "data": {
      "text/plain": [
       "'i want to become a data scientist'"
      ]
     },
     "execution_count": 31,
     "metadata": {},
     "output_type": "execute_result"
    }
   ],
   "source": [
    "f.read()"
   ]
  },
  {
   "cell_type": "code",
   "execution_count": 32,
   "id": "dae82d66-449c-4398-b0de-2baddf3feceb",
   "metadata": {},
   "outputs": [],
   "source": [
    "f.close()"
   ]
  },
  {
   "cell_type": "code",
   "execution_count": 33,
   "id": "7ff104e6-d153-464a-8bd7-36de59d99057",
   "metadata": {},
   "outputs": [
    {
     "data": {
      "text/plain": [
       "'readline()=is wale me file ka data line by line print hoga ek sequaction way me   '"
      ]
     },
     "execution_count": 33,
     "metadata": {},
     "output_type": "execute_result"
    }
   ],
   "source": [
    "\"read()= is wale me jitna bhi file a under data hoga woh sara un sequation way me print ho jaaga\"\n",
    "\"readline()=is wale me file ka data line by line print hoga ek sequaction way me   \""
   ]
  },
  {
   "cell_type": "code",
   "execution_count": 34,
   "id": "16d6c258-24ac-40a0-a47b-f02619561817",
   "metadata": {},
   "outputs": [
    {
     "data": {
      "text/plain": [
       "'with statement is used with open() because in this method close the file for you with out you telling in to do '"
      ]
     },
     "execution_count": 34,
     "metadata": {},
     "output_type": "execute_result"
    }
   ],
   "source": [
    "\"with statement is used with open() because in this method close the file for you with out you telling in to do \""
   ]
  },
  {
   "cell_type": "code",
   "execution_count": 35,
   "id": "845a03c5-0663-4a34-862f-034e5a6623fd",
   "metadata": {},
   "outputs": [
    {
     "data": {
      "text/plain": [
       "'wrirte()= is wala function me hm string likh shkate h or any extra charter nahi honr chaiye '"
      ]
     },
     "execution_count": 35,
     "metadata": {},
     "output_type": "execute_result"
    }
   ],
   "source": [
    "\"wrirte()= is wala function me hm string likh shkate h or any extra charter nahi honr chaiye \""
   ]
  },
  {
   "cell_type": "code",
   "execution_count": 36,
   "id": "2983d38e-edf3-483e-afd6-e8a516777fa6",
   "metadata": {},
   "outputs": [
    {
     "data": {
      "text/plain": [
       "'writeline()=is wale function hm list of string likh shakte h '"
      ]
     },
     "execution_count": 36,
     "metadata": {},
     "output_type": "execute_result"
    }
   ],
   "source": [
    "'writeline()=is wale function hm list of string likh shakte h '"
   ]
  },
  {
   "cell_type": "code",
   "execution_count": null,
   "id": "72753680-f5a8-40cd-9f1a-b14172619c1a",
   "metadata": {},
   "outputs": [],
   "source": []
  }
 ],
 "metadata": {
  "kernelspec": {
   "display_name": "Python 3 (ipykernel)",
   "language": "python",
   "name": "python3"
  },
  "language_info": {
   "codemirror_mode": {
    "name": "ipython",
    "version": 3
   },
   "file_extension": ".py",
   "mimetype": "text/x-python",
   "name": "python",
   "nbconvert_exporter": "python",
   "pygments_lexer": "ipython3",
   "version": "3.10.8"
  }
 },
 "nbformat": 4,
 "nbformat_minor": 5
}
