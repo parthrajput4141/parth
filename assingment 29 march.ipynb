{
 "cells": [
  {
   "cell_type": "code",
   "execution_count": 1,
   "id": "cbbd1fc4-4f20-4241-b4ee-b57973cd6149",
   "metadata": {},
   "outputs": [
    {
     "data": {
      "text/plain": [
       "'lasso regresion : a linear regression model that usese regulization. it is also known as l1 reguliaztion '"
      ]
     },
     "execution_count": 1,
     "metadata": {},
     "output_type": "execute_result"
    }
   ],
   "source": [
    "\"lasso regresion : a linear regression model that usese regulization. it is also known as l1 reguliaztion \""
   ]
  },
  {
   "cell_type": "code",
   "execution_count": 2,
   "id": "e4d266bb-9cbd-4ecb-a172-eabda1e04fbc",
   "metadata": {},
   "outputs": [
    {
     "data": {
      "text/plain": [
       "'purpose of lasso regulization : feautere selction ,accury of the model'"
      ]
     },
     "execution_count": 2,
     "metadata": {},
     "output_type": "execute_result"
    }
   ],
   "source": [
    "\"purpose of lasso regulization : feautere selction ,accury of the model\""
   ]
  },
  {
   "cell_type": "code",
   "execution_count": 3,
   "id": "d76963da-c24d-4631-b6dc-f43b399aa24d",
   "metadata": {},
   "outputs": [
    {
     "data": {
      "text/plain": [
       "'advantage of the lasso regression : it can select the most important feature in the model'"
      ]
     },
     "execution_count": 3,
     "metadata": {},
     "output_type": "execute_result"
    }
   ],
   "source": [
    "\"advantage of the lasso regression : it can select the most important feature in the model\""
   ]
  },
  {
   "cell_type": "code",
   "execution_count": 4,
   "id": "775311e7-cdad-4e36-a4d9-18d91de7ea19",
   "metadata": {},
   "outputs": [
    {
     "data": {
      "text/plain": [
       "' in lasso regresion the hyper parametr (lamda): when (lamda ) increase slope and cofficent decrease  '"
      ]
     },
     "execution_count": 4,
     "metadata": {},
     "output_type": "execute_result"
    }
   ],
   "source": [
    "\" in lasso regresion the hyper parametr (lamda): when (lamda ) increase slope and cofficent decrease  \""
   ]
  },
  {
   "cell_type": "code",
   "execution_count": 5,
   "id": "883a1d22-a961-4c0d-a6f9-768eacfb99f4",
   "metadata": {},
   "outputs": [
    {
     "data": {
      "text/plain": [
       "'Lasso regression and force coefficients toward 0. The smaller the coefficient the less important it is or less variance it explains'"
      ]
     },
     "execution_count": 5,
     "metadata": {},
     "output_type": "execute_result"
    }
   ],
   "source": [
    "\"Lasso regression and force coefficients toward 0. The smaller the coefficient the less important it is or less variance it explains\""
   ]
  },
  {
   "cell_type": "code",
   "execution_count": 6,
   "id": "14f814b0-7424-4637-8281-f41e84d3d810",
   "metadata": {},
   "outputs": [
    {
     "data": {
      "text/plain": [
       "' Lasso Regression be used for non-linear regression problems : no it use only for linerize regresion problem'"
      ]
     },
     "execution_count": 6,
     "metadata": {},
     "output_type": "execute_result"
    }
   ],
   "source": [
    "\" Lasso Regression be used for non-linear regression problems : no it use only for linerize regresion problem\""
   ]
  },
  {
   "cell_type": "code",
   "execution_count": 7,
   "id": "74520992-605a-4f46-925f-3638b13cc425",
   "metadata": {},
   "outputs": [
    {
     "data": {
      "text/plain": [
       "' ridge regresion (L2 regularization) : adds a penalty equal to the square of the magnitude of coefficients ,Coefficients are shrunk towards zero but not exactly to zero,Does not perform feature selection: all features are included in the model, but their impact is minimized.  '"
      ]
     },
     "execution_count": 7,
     "metadata": {},
     "output_type": "execute_result"
    }
   ],
   "source": [
    "\" ridge regresion (L2 regularization) : adds a penalty equal to the square of the magnitude of coefficients ,Coefficients are shrunk towards zero but not exactly to zero,Does not perform feature selection: all features are included in the model, but their impact is minimized.  \""
   ]
  },
  {
   "cell_type": "code",
   "execution_count": 8,
   "id": "ff075139-7ef2-47c4-b3a5-89b7c6e0a433",
   "metadata": {},
   "outputs": [
    {
     "data": {
      "text/plain": [
       "'lasso regression (L1 regularization) : adds a penalty equal to the absolute value of the magnitude of coefficients, Coefficients can be shrunk to exactly zero, effectively eliminating some variables, Performs feature selection: can completely eliminate some features by setting their coefficients to zero.'"
      ]
     },
     "execution_count": 8,
     "metadata": {},
     "output_type": "execute_result"
    }
   ],
   "source": [
    "\"lasso regression (L1 regularization) : adds a penalty equal to the absolute value of the magnitude of coefficients, Coefficients can be shrunk to exactly zero, effectively eliminating some variables, Performs feature selection: can completely eliminate some features by setting their coefficients to zero.\""
   ]
  },
  {
   "cell_type": "code",
   "execution_count": 9,
   "id": "2b851583-89c0-4d0a-a8d2-2a4e7212f9af",
   "metadata": {},
   "outputs": [
    {
     "data": {
      "text/plain": [
       "' Lasso Regression handle multicollinearity in the input features? : yes, because it cooficent shrinks towards the zero'"
      ]
     },
     "execution_count": 9,
     "metadata": {},
     "output_type": "execute_result"
    }
   ],
   "source": [
    "\" Lasso Regression handle multicollinearity in the input features? : yes, because it cooficent shrinks towards the zero\""
   ]
  },
  {
   "cell_type": "code",
   "execution_count": null,
   "id": "6d198e5d-d4bf-4661-94fd-cbecf342b62d",
   "metadata": {},
   "outputs": [],
   "source": []
  }
 ],
 "metadata": {
  "kernelspec": {
   "display_name": "Python 3 (ipykernel)",
   "language": "python",
   "name": "python3"
  },
  "language_info": {
   "codemirror_mode": {
    "name": "ipython",
    "version": 3
   },
   "file_extension": ".py",
   "mimetype": "text/x-python",
   "name": "python",
   "nbconvert_exporter": "python",
   "pygments_lexer": "ipython3",
   "version": "3.10.8"
  }
 },
 "nbformat": 4,
 "nbformat_minor": 5
}
