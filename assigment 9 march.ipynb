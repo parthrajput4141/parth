{
 "cells": [
  {
   "cell_type": "code",
   "execution_count": 1,
   "id": "d46fdfa1-9bd5-4ebc-b675-60ba8285bc7b",
   "metadata": {},
   "outputs": [
    {
     "data": {
      "text/plain": [
       "'probability mass function (pmf) : discerte random varible ko dhikhane k liye hm pmf ko use karte h '"
      ]
     },
     "execution_count": 1,
     "metadata": {},
     "output_type": "execute_result"
    }
   ],
   "source": [
    "\"probability mass function (pmf) : discerte random varible ko dhikhane k liye hm pmf ko use karte h \""
   ]
  },
  {
   "cell_type": "code",
   "execution_count": 2,
   "id": "4b646969-94ca-4d08-9709-9878f3e992c6",
   "metadata": {},
   "outputs": [
    {
     "data": {
      "text/plain": [
       "'example of pmf: rolling a dice '"
      ]
     },
     "execution_count": 2,
     "metadata": {},
     "output_type": "execute_result"
    }
   ],
   "source": [
    "\"example of pmf: rolling a dice \""
   ]
  },
  {
   "cell_type": "code",
   "execution_count": 3,
   "id": "f9bcf536-5417-45f0-9c8e-64ba898cdb17",
   "metadata": {},
   "outputs": [
    {
     "data": {
      "text/plain": [
       "'probability density function (pdf) : contionus random variable ko dhekkne k liye hm pdf function ko use karte h '"
      ]
     },
     "execution_count": 3,
     "metadata": {},
     "output_type": "execute_result"
    }
   ],
   "source": [
    "\"probability density function (pdf) : contionus random variable ko dhekkne k liye hm pdf function ko use karte h \""
   ]
  },
  {
   "cell_type": "code",
   "execution_count": 4,
   "id": "5c778bcd-5acc-424f-9280-83ca5c288479",
   "metadata": {},
   "outputs": [
    {
     "data": {
      "text/plain": [
       "'example of pdf : heights of students'"
      ]
     },
     "execution_count": 4,
     "metadata": {},
     "output_type": "execute_result"
    }
   ],
   "source": [
    "\"example of pdf : heights of students\""
   ]
  },
  {
   "cell_type": "code",
   "execution_count": 5,
   "id": "8dc80df9-c0d2-449c-b3f6-0c5d229f0a1a",
   "metadata": {},
   "outputs": [
    {
     "data": {
      "text/plain": [
       "'cumilative distribution function (cdf): real random varible ko dhekne k liye '"
      ]
     },
     "execution_count": 5,
     "metadata": {},
     "output_type": "execute_result"
    }
   ],
   "source": [
    "\"cumilative distribution function (cdf): real random varible ko dhekne k liye \""
   ]
  },
  {
   "cell_type": "code",
   "execution_count": 6,
   "id": "1e170408-23ab-48e9-903e-ce17ebc09e94",
   "metadata": {},
   "outputs": [
    {
     "data": {
      "text/plain": [
       "'example of (cdf) : f(x)=p(X<x)'"
      ]
     },
     "execution_count": 6,
     "metadata": {},
     "output_type": "execute_result"
    }
   ],
   "source": [
    "\"example of (cdf) : f(x)=p(X<x)\""
   ]
  },
  {
   "cell_type": "code",
   "execution_count": 7,
   "id": "40ddb4ce-f77e-4a50-8584-44d6b03dcc3f",
   "metadata": {},
   "outputs": [
    {
     "data": {
      "text/plain": [
       "'cdf is used for  describe the probability distribution of random variables in a table'"
      ]
     },
     "execution_count": 7,
     "metadata": {},
     "output_type": "execute_result"
    }
   ],
   "source": [
    "\"cdf is used for  describe the probability distribution of random variables in a table\""
   ]
  },
  {
   "cell_type": "code",
   "execution_count": 8,
   "id": "7ac85957-a085-4af9-8896-3a4534b697ed",
   "metadata": {},
   "outputs": [
    {
     "data": {
      "text/plain": [
       "' z score hm isliye use karte h taki normal distribution ko hm standard normal distribution me badal shake '"
      ]
     },
     "execution_count": 8,
     "metadata": {},
     "output_type": "execute_result"
    }
   ],
   "source": [
    "\" z score hm isliye use karte h taki normal distribution ko hm standard normal distribution me badal shake \""
   ]
  },
  {
   "cell_type": "code",
   "execution_count": 9,
   "id": "79a284cf-960f-4c1a-821e-c2f565d27849",
   "metadata": {},
   "outputs": [
    {
     "data": {
      "text/plain": [
       "'or z score ye bolta h ki std kitna dur he average mean se'"
      ]
     },
     "execution_count": 9,
     "metadata": {},
     "output_type": "execute_result"
    }
   ],
   "source": [
    "\"or z score ye bolta h ki std kitna dur he average mean se\""
   ]
  },
  {
   "cell_type": "code",
   "execution_count": 10,
   "id": "e4a27d61-7742-4b1a-8522-c13c6f34ab6d",
   "metadata": {},
   "outputs": [
    {
     "data": {
      "text/plain": [
       "'central limit theroum (clt) : it says that the simply distribution of the mean will always be normally distributed as long as the sample size is large enough'"
      ]
     },
     "execution_count": 10,
     "metadata": {},
     "output_type": "execute_result"
    }
   ],
   "source": [
    "\"central limit theroum (clt) : it says that the simply distribution of the mean will always be normally distributed as long as the sample size is large enough\""
   ]
  },
  {
   "cell_type": "code",
   "execution_count": 11,
   "id": "3ff8263d-fc84-41a5-a04a-d53f2781701e",
   "metadata": {},
   "outputs": [
    {
     "data": {
      "text/plain": [
       "' clt me do assumpyion h first normal distribution k liye or 2) binomial or posion type distribution k liye  '"
      ]
     },
     "execution_count": 11,
     "metadata": {},
     "output_type": "execute_result"
    }
   ],
   "source": [
    "\" clt me do assumpyion h first normal distribution k liye or 2) binomial or posion type distribution k liye  \""
   ]
  },
  {
   "cell_type": "code",
   "execution_count": 12,
   "id": "d7fdde6d-4c12-4999-a4e4-5471fdc8ab98",
   "metadata": {},
   "outputs": [
    {
     "data": {
      "text/plain": [
       "'first wale me N(population mean , poulation std )'"
      ]
     },
     "execution_count": 12,
     "metadata": {},
     "output_type": "execute_result"
    }
   ],
   "source": [
    "\"first wale me x= N(population mean , poulation std )\""
   ]
  },
  {
   "cell_type": "code",
   "execution_count": 13,
   "id": "a48a7196-f2ce-4995-9357-b71f77251f23",
   "metadata": {},
   "outputs": [
    {
     "data": {
      "text/plain": [
       "'second wale me x is not equal to n(popultion mean , population std ) to  isme n>= 30 hona chaiye or isme clt formula  x = n(population mean ,population std/under root of n) '"
      ]
     },
     "execution_count": 13,
     "metadata": {},
     "output_type": "execute_result"
    }
   ],
   "source": [
    "\"second wale me x is not equal to n(popultion mean , population std ) to  isme n>= 30 hona chaiye or isme clt formula  x = n(population mean ,population std/under root of n) \""
   ]
  },
  {
   "cell_type": "code",
   "execution_count": null,
   "id": "bcd0193c-5d56-49e7-8fc3-2dce4c5a2095",
   "metadata": {},
   "outputs": [],
   "source": []
  }
 ],
 "metadata": {
  "kernelspec": {
   "display_name": "Python 3 (ipykernel)",
   "language": "python",
   "name": "python3"
  },
  "language_info": {
   "codemirror_mode": {
    "name": "ipython",
    "version": 3
   },
   "file_extension": ".py",
   "mimetype": "text/x-python",
   "name": "python",
   "nbconvert_exporter": "python",
   "pygments_lexer": "ipython3",
   "version": "3.10.8"
  }
 },
 "nbformat": 4,
 "nbformat_minor": 5
}
