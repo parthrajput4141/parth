{
 "cells": [
  {
   "cell_type": "code",
   "execution_count": 1,
   "id": "9efd6345-8c13-4c3e-a0aa-802eea176dc0",
   "metadata": {},
   "outputs": [
    {
     "data": {
      "text/plain": [
       "'api =application progaming interface ,  api is the application which comunicate bitweenn two application and apllication is like as a homoginous and a hetrogenius'"
      ]
     },
     "execution_count": 1,
     "metadata": {},
     "output_type": "execute_result"
    }
   ],
   "source": [
    "\"api =application progaming interface ,  api is the application which comunicate bitweenn two application and apllication is like as a homoginous and a hetrogenius\""
   ]
  },
  {
   "cell_type": "code",
   "execution_count": 2,
   "id": "e8e2139f-bfb2-46bb-bc8d-752bc3bd7668",
   "metadata": {},
   "outputs": [
    {
     "data": {
      "text/plain": [
       "' api is used in the g-pay application in this application it comunicate between bank and g-pay'"
      ]
     },
     "execution_count": 2,
     "metadata": {},
     "output_type": "execute_result"
    }
   ],
   "source": [
    "\" api is used in the g-pay application in this application it comunicate between bank and g-pay\" "
   ]
  },
  {
   "cell_type": "code",
   "execution_count": 3,
   "id": "f9fca87b-b356-4519-8896-b6e397bef036",
   "metadata": {},
   "outputs": [
    {
     "data": {
      "text/plain": [
       "'advantage of api are : increased flexibility, increased efficiency , better user experience '"
      ]
     },
     "execution_count": 3,
     "metadata": {},
     "output_type": "execute_result"
    }
   ],
   "source": [
    "\"advantage of api are : increased flexibility, increased efficiency , better user experience \""
   ]
  },
  {
   "cell_type": "code",
   "execution_count": 4,
   "id": "583b42e6-258b-4e4e-b1ef-0348917087c4",
   "metadata": {},
   "outputs": [
    {
     "data": {
      "text/plain": [
       "'disadvantage of api are : Complexity , depend upon third party '"
      ]
     },
     "execution_count": 4,
     "metadata": {},
     "output_type": "execute_result"
    }
   ],
   "source": [
    "\"disadvantage of api are : Complexity , depend upon third party \""
   ]
  },
  {
   "cell_type": "code",
   "execution_count": 5,
   "id": "b1759140-cf31-48fb-a4f2-39fc857ad90c",
   "metadata": {},
   "outputs": [
    {
     "data": {
      "text/plain": [
       "'defination of web api : A set of standards and protocols for accessing web-based software applications or web tools'"
      ]
     },
     "execution_count": 5,
     "metadata": {},
     "output_type": "execute_result"
    }
   ],
   "source": [
    "\"defination of web api : A set of standards and protocols for accessing web-based software applications or web tools\""
   ]
  },
  {
   "cell_type": "code",
   "execution_count": 6,
   "id": "fb3fb7fb-01d4-455b-9180-41d844685a5d",
   "metadata": {},
   "outputs": [
    {
     "data": {
      "text/plain": [
       "'differnce between api and web api : web api is a sub set of api ,  '"
      ]
     },
     "execution_count": 6,
     "metadata": {},
     "output_type": "execute_result"
    }
   ],
   "source": [
    "\"differnce between api and web api : web api is a sub set of api ,  \""
   ]
  },
  {
   "cell_type": "code",
   "execution_count": 7,
   "id": "f908c1ed-d207-417c-a909-df6a5f7c32fe",
   "metadata": {},
   "outputs": [
    {
     "data": {
      "text/plain": [
       "' there are the two type of api architechture are : REST and SOAP'"
      ]
     },
     "execution_count": 7,
     "metadata": {},
     "output_type": "execute_result"
    }
   ],
   "source": [
    "\" there are the two type of api architechture are : REST and SOAP\"\n"
   ]
  },
  {
   "cell_type": "code",
   "execution_count": 8,
   "id": "a2647c1b-c08a-44f9-a54c-a58cd04ca676",
   "metadata": {},
   "outputs": [
    {
     "data": {
      "text/plain": [
       "' difference between rest and soap architure are: rest architure is used for the web api and soap is used for XML based'"
      ]
     },
     "execution_count": 8,
     "metadata": {},
     "output_type": "execute_result"
    }
   ],
   "source": [
    "\" difference between rest and soap architure are: rest architure is used for the web api and soap is used for XML based\" "
   ]
  },
  {
   "cell_type": "code",
   "execution_count": 9,
   "id": "01688af4-fc8c-4b95-823e-7ab02cf3cd3c",
   "metadata": {},
   "outputs": [
    {
     "data": {
      "text/plain": [
       "'in the rest  for data http protocool is used for put, get,post,delete, data and in the soap this is the mark up function and file is used in this'"
      ]
     },
     "execution_count": 9,
     "metadata": {},
     "output_type": "execute_result"
    }
   ],
   "source": [
    "\"in the rest  for data http protocool is used for put, get,post,delete, data and in the soap this is the mark up function and file is used in this\" "
   ]
  },
  {
   "cell_type": "code",
   "execution_count": 10,
   "id": "637a8cd8-a306-48aa-97ce-fa21a0bbbccb",
   "metadata": {},
   "outputs": [
    {
     "data": {
      "text/plain": [
       "' in the rest this is no light weight ,no secure, but more fexibilty,stability'"
      ]
     },
     "execution_count": 10,
     "metadata": {},
     "output_type": "execute_result"
    }
   ],
   "source": [
    "\" in the rest this is no light weight ,no secure, but more fexibilty,stability\""
   ]
  },
  {
   "cell_type": "code",
   "execution_count": 11,
   "id": "d0c0c732-033d-45f4-abc1-70989c0a23bb",
   "metadata": {},
   "outputs": [
    {
     "data": {
      "text/plain": [
       "'in the soap architecture this is more secure ,more complex, light weight'"
      ]
     },
     "execution_count": 11,
     "metadata": {},
     "output_type": "execute_result"
    }
   ],
   "source": [
    "\"in the soap architecture this is more secure ,more complex, light weight\""
   ]
  },
  {
   "cell_type": "code",
   "execution_count": null,
   "id": "1af61a47-4973-4ee7-b5f5-35b23b2dc5ee",
   "metadata": {},
   "outputs": [],
   "source": []
  }
 ],
 "metadata": {
  "kernelspec": {
   "display_name": "Python 3 (ipykernel)",
   "language": "python",
   "name": "python3"
  },
  "language_info": {
   "codemirror_mode": {
    "name": "ipython",
    "version": 3
   },
   "file_extension": ".py",
   "mimetype": "text/x-python",
   "name": "python",
   "nbconvert_exporter": "python",
   "pygments_lexer": "ipython3",
   "version": "3.10.8"
  }
 },
 "nbformat": 4,
 "nbformat_minor": 5
}
