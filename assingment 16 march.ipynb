{
 "cells": [
  {
   "cell_type": "code",
   "execution_count": 1,
   "id": "6e649ce9-d642-4b08-8f63-433ba4873bc2",
   "metadata": {},
   "outputs": [
    {
     "data": {
      "text/plain": [
       "' in overfitting model our model taing is good but in test our model not doing good work . in this high taring (low bais ) low tested (high varriance )'"
      ]
     },
     "execution_count": 1,
     "metadata": {},
     "output_type": "execute_result"
    }
   ],
   "source": [
    "\" in overfitting model our model taing is good but in test our model not doing good work . in this high taring (low bais ) low tested (high varriance )\""
   ]
  },
  {
   "cell_type": "code",
   "execution_count": 2,
   "id": "99f61bbe-c56a-45bc-9a90-1084439d8326",
   "metadata": {},
   "outputs": [
    {
     "data": {
      "text/plain": [
       "'in underfitting model our model taing is bad but in test our model not doing good work . in this low taring (high bais ) low tested (high varriance )'"
      ]
     },
     "execution_count": 2,
     "metadata": {},
     "output_type": "execute_result"
    }
   ],
   "source": [
    "\"in underfitting model our model taing is bad but in test our model not doing good work . in this low taring (high bais ) low tested (high varriance )\""
   ]
  },
  {
   "cell_type": "code",
   "execution_count": 3,
   "id": "c9d26b24-be47-4bd4-994e-2d9880b026f8",
   "metadata": {},
   "outputs": [
    {
     "data": {
      "text/plain": [
       "' for reduce overfitting : prevent overfitting by diversifying and scaling your training data set or using some other data science strategies'"
      ]
     },
     "execution_count": 3,
     "metadata": {},
     "output_type": "execute_result"
    }
   ],
   "source": [
    "\" for reduce overfitting : prevent overfitting by diversifying and scaling your training data set or using some other data science strategies\""
   ]
  },
  {
   "cell_type": "code",
   "execution_count": 4,
   "id": "11337273-be61-48f1-9f9c-fe0b8cbf8df6",
   "metadata": {},
   "outputs": [
    {
     "data": {
      "text/plain": [
       "\"By adjusting a model's complexity, it aims to strike a balance between underfitting (high bias) and overfitting (high variance)\""
      ]
     },
     "execution_count": 4,
     "metadata": {},
     "output_type": "execute_result"
    }
   ],
   "source": [
    "\"By adjusting a model's complexity, it aims to strike a balance between underfitting (high bias) and overfitting (high variance)\""
   ]
  },
  {
   "cell_type": "code",
   "execution_count": null,
   "id": "f8dadbeb-fcec-4015-b7a3-04e92741e42a",
   "metadata": {},
   "outputs": [],
   "source": []
  }
 ],
 "metadata": {
  "kernelspec": {
   "display_name": "Python 3 (ipykernel)",
   "language": "python",
   "name": "python3"
  },
  "language_info": {
   "codemirror_mode": {
    "name": "ipython",
    "version": 3
   },
   "file_extension": ".py",
   "mimetype": "text/x-python",
   "name": "python",
   "nbconvert_exporter": "python",
   "pygments_lexer": "ipython3",
   "version": "3.10.8"
  }
 },
 "nbformat": 4,
 "nbformat_minor": 5
}
