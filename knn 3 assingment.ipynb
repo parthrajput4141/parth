{
 "cells": [
  {
   "cell_type": "code",
   "execution_count": 2,
   "id": "fef84b83-e21f-4531-b0f6-0a02b6efad84",
   "metadata": {},
   "outputs": [
    {
     "data": {
      "text/plain": [
       "'from sklearn.datasets import load_iris . this is the code to implement in the KNN classifier algorithm to load data'"
      ]
     },
     "execution_count": 2,
     "metadata": {},
     "output_type": "execute_result"
    }
   ],
   "source": [
    "\"from sklearn.datasets import load_iris . this is the code to implement in the KNN classifier algorithm to load data\""
   ]
  },
  {
   "cell_type": "markdown",
   "id": "b503ce71-3d03-4ae5-b266-f0229253fb55",
   "metadata": {},
   "source": [
    "## code for Eculidian Distance"
   ]
  },
  {
   "cell_type": "code",
   "execution_count": 4,
   "id": "00eae944-b267-48ab-8aca-ed3de48e0496",
   "metadata": {},
   "outputs": [],
   "source": [
    "import math"
   ]
  },
  {
   "cell_type": "code",
   "execution_count": 5,
   "id": "d4c990a9-7480-427e-b7bc-337e011d63ca",
   "metadata": {},
   "outputs": [],
   "source": [
    "p=[3,13]\n",
    "q=[4,3]"
   ]
  },
  {
   "cell_type": "code",
   "execution_count": 7,
   "id": "11f62f8a-ddab-457a-bdde-08768c35e13c",
   "metadata": {},
   "outputs": [
    {
     "name": "stdout",
     "output_type": "stream",
     "text": [
      "10.04987562112089\n"
     ]
    }
   ],
   "source": [
    "print(math.dist(p,q))"
   ]
  },
  {
   "cell_type": "markdown",
   "id": "df70538b-ee9d-4828-8013-5864f9f484f0",
   "metadata": {},
   "source": [
    "## code for MAnthaten Distance"
   ]
  },
  {
   "cell_type": "code",
   "execution_count": 9,
   "id": "20d6c6d3-41fe-411b-bea0-b0a1df8ae84e",
   "metadata": {},
   "outputs": [],
   "source": [
    "from scipy.spatial.distance import cityblock"
   ]
  },
  {
   "cell_type": "code",
   "execution_count": 10,
   "id": "eff2b41c-e2d9-45f8-a320-371a4d612e11",
   "metadata": {},
   "outputs": [],
   "source": [
    "a=[1,2,3,4]\n",
    "b=[5,6,7,8]"
   ]
  },
  {
   "cell_type": "code",
   "execution_count": 11,
   "id": "c721e7d6-2e12-4619-8d11-b18ac649b4ef",
   "metadata": {},
   "outputs": [
    {
     "data": {
      "text/plain": [
       "16"
      ]
     },
     "execution_count": 11,
     "metadata": {},
     "output_type": "execute_result"
    }
   ],
   "source": [
    "cityblock(a,b)"
   ]
  },
  {
   "cell_type": "code",
   "execution_count": null,
   "id": "6e034724-af5b-4e69-9d44-c4fc97d6b058",
   "metadata": {},
   "outputs": [],
   "source": []
  }
 ],
 "metadata": {
  "kernelspec": {
   "display_name": "Python 3 (ipykernel)",
   "language": "python",
   "name": "python3"
  },
  "language_info": {
   "codemirror_mode": {
    "name": "ipython",
    "version": 3
   },
   "file_extension": ".py",
   "mimetype": "text/x-python",
   "name": "python",
   "nbconvert_exporter": "python",
   "pygments_lexer": "ipython3",
   "version": "3.10.8"
  }
 },
 "nbformat": 4,
 "nbformat_minor": 5
}
