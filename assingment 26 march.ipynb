{
 "cells": [
  {
   "cell_type": "code",
   "execution_count": 1,
   "id": "e71bcf2f-69a0-4eb9-8898-d9a76677d17b",
   "metadata": {},
   "outputs": [
    {
     "data": {
      "text/plain": [
       "' simple regresion : in this type of regression model have only one indepent feature (input) and one only dependent feature (output). '"
      ]
     },
     "execution_count": 1,
     "metadata": {},
     "output_type": "execute_result"
    }
   ],
   "source": [
    "\" simple regresion : in this type of regression model have only one indepent feature (input) and one only dependent feature (output). \""
   ]
  },
  {
   "cell_type": "code",
   "execution_count": 2,
   "id": "69efc219-eb49-4f04-9663-aa4004970e3a",
   "metadata": {},
   "outputs": [
    {
     "data": {
      "text/plain": [
       "'the main aim of simple linear regerssion is to find the best fit line for less cost of error and good performnce'"
      ]
     },
     "execution_count": 2,
     "metadata": {},
     "output_type": "execute_result"
    }
   ],
   "source": [
    "\"the main aim of simple linear regerssion is to find the best fit line for less cost of error and good performnce\""
   ]
  },
  {
   "cell_type": "code",
   "execution_count": 3,
   "id": "f88ef981-f44a-4aec-a532-09e91ebfb165",
   "metadata": {},
   "outputs": [
    {
     "data": {
      "text/plain": [
       "'exmaple of simple linear regression are indepent feature (input): weights , dependent feature (output): heights'"
      ]
     },
     "execution_count": 3,
     "metadata": {},
     "output_type": "execute_result"
    }
   ],
   "source": [
    "\"exmaple of simple linear regression are indepent feature (input): weights , dependent feature (output): heights\""
   ]
  },
  {
   "cell_type": "code",
   "execution_count": 4,
   "id": "93442f6f-155d-4344-afe7-7cd4ea2f9785",
   "metadata": {},
   "outputs": [
    {
     "data": {
      "text/plain": [
       "'multiple regression : in this type of regression model have two or more independent feature (input) and only one dependent feature (output) is one '"
      ]
     },
     "execution_count": 4,
     "metadata": {},
     "output_type": "execute_result"
    }
   ],
   "source": [
    "\"multiple regression : in this type of regression model have two or more independent feature (input) and only one dependent feature (output) is one \""
   ]
  },
  {
   "cell_type": "code",
   "execution_count": 5,
   "id": "54293386-0d29-46b1-9256-382fc3044bae",
   "metadata": {},
   "outputs": [
    {
     "data": {
      "text/plain": [
       "'expample of multiple linear regresion are independent feature (input) : 1) size of house ,2) no. of rooms, 3) family members , dependent feature (output) : price of house '"
      ]
     },
     "execution_count": 5,
     "metadata": {},
     "output_type": "execute_result"
    }
   ],
   "source": [
    "\"expample of multiple linear regresion are independent feature (input) : 1) size of house ,2) no. of rooms, 3) family members , dependent feature (output) : price of house \""
   ]
  },
  {
   "cell_type": "code",
   "execution_count": 6,
   "id": "f98596c1-3c5c-4369-815a-510bb62e50cc",
   "metadata": {},
   "outputs": [
    {
     "data": {
      "text/plain": [
       "'multicollinearity in multiple linear regression, How can you detect : with the help of ridge regersion (l2 regulization)'"
      ]
     },
     "execution_count": 6,
     "metadata": {},
     "output_type": "execute_result"
    }
   ],
   "source": [
    "\"multicollinearity in multiple linear regression, How can you detect : with the help of ridge regersion (l2 regulization)\""
   ]
  },
  {
   "cell_type": "code",
   "execution_count": 7,
   "id": "b3350bd5-10b5-46bd-b42d-ddef34665bb8",
   "metadata": {},
   "outputs": [
    {
     "data": {
      "text/plain": [
       "' poynomial linear regression : A polynomial regression model is a machine learning model that can capture non-linear relationships between variables by fitting a non-linear regression line, which may not be possible with simple linear regression'"
      ]
     },
     "execution_count": 7,
     "metadata": {},
     "output_type": "execute_result"
    }
   ],
   "source": [
    "\" poynomial linear regression : A polynomial regression model is a machine learning model that can capture non-linear relationships between variables by fitting a non-linear regression line, which may not be possible with simple linear regression\""
   ]
  },
  {
   "cell_type": "code",
   "execution_count": 8,
   "id": "93a922e5-76d9-4a06-bd87-5d3b05fc12d0",
   "metadata": {},
   "outputs": [
    {
     "data": {
      "text/plain": [
       "' gardient decent : Gradient descent (GD) is an iterative first-order optimisation algorithm, used to find a local minimum/maximum of a given function. This method is commonly used in machine learning (ML) and deep learning (DL) to minimise a cost/loss function'"
      ]
     },
     "execution_count": 8,
     "metadata": {},
     "output_type": "execute_result"
    }
   ],
   "source": [
    "\" gardient decent : Gradient descent (GD) is an iterative first-order optimisation algorithm, used to find a local minimum/maximum of a given function. This method is commonly used in machine learning (ML) and deep learning (DL) to minimise a cost/loss function\""
   ]
  },
  {
   "cell_type": "code",
   "execution_count": 9,
   "id": "842038a9-4b31-481c-bd14-0ea9f900c0cf",
   "metadata": {},
   "outputs": [
    {
     "data": {
      "text/plain": [
       "'The assumptions of linear regression in data science are linearity, independence, homoscedasticity, normality, no multicollinearity, and no endogeneity'"
      ]
     },
     "execution_count": 9,
     "metadata": {},
     "output_type": "execute_result"
    }
   ],
   "source": [
    "\"The assumptions of linear regression in data science are linearity, independence, homoscedasticity, normality, no multicollinearity, and no endogeneity\""
   ]
  },
  {
   "cell_type": "code",
   "execution_count": null,
   "id": "8943fbae-02b4-4a6c-b06b-473fb8d1a83c",
   "metadata": {},
   "outputs": [],
   "source": []
  }
 ],
 "metadata": {
  "kernelspec": {
   "display_name": "Python 3 (ipykernel)",
   "language": "python",
   "name": "python3"
  },
  "language_info": {
   "codemirror_mode": {
    "name": "ipython",
    "version": 3
   },
   "file_extension": ".py",
   "mimetype": "text/x-python",
   "name": "python",
   "nbconvert_exporter": "python",
   "pygments_lexer": "ipython3",
   "version": "3.10.8"
  }
 },
 "nbformat": 4,
 "nbformat_minor": 5
}
